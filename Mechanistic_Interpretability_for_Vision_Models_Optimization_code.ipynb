{
  "nbformat": 4,
  "nbformat_minor": 0,
  "metadata": {
    "colab": {
      "provenance": [],
      "gpuType": "T4",
      "collapsed_sections": [
        "bFwpDmIWVWxs"
      ],
      "include_colab_link": true
    },
    "kernelspec": {
      "name": "python3",
      "display_name": "Python 3"
    },
    "language_info": {
      "name": "python"
    },
    "accelerator": "GPU"
  },
  "cells": [
    {
      "cell_type": "markdown",
      "metadata": {
        "id": "view-in-github",
        "colab_type": "text"
      },
      "source": [
        "<a href=\"https://colab.research.google.com/github/Sassotek/Mechanistic-Interpretability-for-Vision-Models-Optimization/blob/main/Mechanistic_Interpretability_for_Vision_Models_Optimization_code.ipynb\" target=\"_parent\"><img src=\"https://colab.research.google.com/assets/colab-badge.svg\" alt=\"Open In Colab\"/></a>"
      ]
    },
    {
      "cell_type": "markdown",
      "source": [
        "#Notes"
      ],
      "metadata": {
        "id": "6jzzOI7xEby3"
      }
    },
    {
      "cell_type": "markdown",
      "source": [
        "https://viso.ai/deep-learning/vision-transformer-vit/\n",
        "\n",
        "https://www.datacamp.com/tutorial/building-a-transformer-with-py-torch\n",
        "\n",
        "https://docs.pytorch.org/vision/main/models/vision_transformer.html\n",
        "\n",
        "https://github.com/lucidrains/vit-pytorch\n",
        "\n",
        "https://arxiv.org/pdf/2010.11929.pdf\n",
        "\n",
        "https://www.youtube.com/watch?v=j3VNqtJUoz0"
      ],
      "metadata": {
        "id": "8DEOK911Eext"
      }
    },
    {
      "cell_type": "markdown",
      "source": [
        "#Imports"
      ],
      "metadata": {
        "id": "D8G8Wllzv7RG"
      }
    },
    {
      "cell_type": "code",
      "execution_count": null,
      "metadata": {
        "id": "0BiaX_tGip4X",
        "colab": {
          "base_uri": "https://localhost:8080/"
        },
        "outputId": "39d9d7f2-0c38-4dc8-e4d3-1b0a3da0ac88"
      },
      "outputs": [
        {
          "output_type": "stream",
          "name": "stdout",
          "text": [
            "Requirement already satisfied: kagglehub in /usr/local/lib/python3.11/dist-packages (0.3.12)\n",
            "Requirement already satisfied: packaging in /usr/local/lib/python3.11/dist-packages (from kagglehub) (24.2)\n",
            "Requirement already satisfied: pyyaml in /usr/local/lib/python3.11/dist-packages (from kagglehub) (6.0.2)\n",
            "Requirement already satisfied: requests in /usr/local/lib/python3.11/dist-packages (from kagglehub) (2.32.3)\n",
            "Requirement already satisfied: tqdm in /usr/local/lib/python3.11/dist-packages (from kagglehub) (4.67.1)\n",
            "Requirement already satisfied: charset-normalizer<4,>=2 in /usr/local/lib/python3.11/dist-packages (from requests->kagglehub) (3.4.2)\n",
            "Requirement already satisfied: idna<4,>=2.5 in /usr/local/lib/python3.11/dist-packages (from requests->kagglehub) (3.10)\n",
            "Requirement already satisfied: urllib3<3,>=1.21.1 in /usr/local/lib/python3.11/dist-packages (from requests->kagglehub) (2.4.0)\n",
            "Requirement already satisfied: certifi>=2017.4.17 in /usr/local/lib/python3.11/dist-packages (from requests->kagglehub) (2025.4.26)\n",
            "Mounted at /content/drive\n",
            "Device cuda\n"
          ]
        }
      ],
      "source": [
        "import math\n",
        "import matplotlib\n",
        "import matplotlib.pyplot as plt\n",
        "import numpy as np\n",
        "from PIL import Image\n",
        "import cv2\n",
        "\n",
        "#Kaggle\n",
        "!pip install kagglehub\n",
        "import kagglehub\n",
        "\n",
        "#PyTorch modules\n",
        "import torch\n",
        "import torch.nn as nn\n",
        "import torch.nn.functional as F\n",
        "from torch.nn import ModuleList\n",
        "from torch.utils.data import DataLoader, SubsetRandomSampler, ConcatDataset\n",
        "import torchvision\n",
        "from torchvision import transforms,datasets\n",
        "from torch.utils.data import Dataset\n",
        "\n",
        "import random\n",
        "import os\n",
        "import pandas as pd\n",
        "from tqdm.notebook import tqdm\n",
        "import time\n",
        "import seaborn as sns\n",
        "\n",
        "\n",
        "from IPython.display import display, Markdown\n",
        "from IPython.display import HTML\n",
        "\n",
        "\n",
        "import sklearn\n",
        "from sklearn.model_selection import KFold\n",
        "from sklearn.metrics import confusion_matrix, classification_report\n",
        "\n",
        "\n",
        "\n",
        "## GDrive settings\n",
        "from google.colab import drive\n",
        "drive.mount('/content/drive')\n",
        "\n",
        "\n",
        "# Setting the seed\n",
        "torch.manual_seed(240700)\n",
        "device = torch.device(\"cuda\") if torch.cuda.is_available() else torch.device(\"cpu\")\n",
        "\n",
        "print(\"Device\",device)\n",
        "if torch.cuda.is_available():\n",
        "   torch.cuda.manual_seed(240700)\n",
        "   torch.cuda.manual_seed_all(240700)\n",
        "\n",
        "#ensure that all operations are deterministic on GPU if used,for reproducibility\n",
        "torch.backends.cudnn.determinstic = True\n",
        "torch.backends.cudnn.benchmark = False\n",
        "\n",
        "\n",
        "\n",
        "\n"
      ]
    },
    {
      "cell_type": "markdown",
      "source": [
        "# GLOBALS"
      ],
      "metadata": {
        "id": "fHCbuzIqFd50"
      }
    },
    {
      "cell_type": "code",
      "source": [
        "directory_file_path=\"/content/drive/File_projects_CV\"\n",
        "\n",
        "RED = \"\\033[31m\"\n",
        "GREEN = \"\\033[32m\"\n",
        "BLUE = \"\\033[34m\"\n",
        "RESET = \"\\033[0m\"\n",
        "CYAN=\"\\033[36m\"\n",
        "MAGENTA=\"\\033[35m\""
      ],
      "metadata": {
        "id": "uimoN7OJFgXo"
      },
      "execution_count": null,
      "outputs": []
    },
    {
      "cell_type": "markdown",
      "source": [
        "#DATA"
      ],
      "metadata": {
        "id": "bFwpDmIWVWxs"
      }
    },
    {
      "cell_type": "code",
      "source": [
        "data_path = kagglehub.dataset_download(\"akash2sharma/tiny-imagenet\")\n",
        "print(\"Path to dataset files:\", data_path)"
      ],
      "metadata": {
        "colab": {
          "base_uri": "https://localhost:8080/"
        },
        "id": "4YoeVA5EcadQ",
        "outputId": "b63e3d80-fffb-49fd-d728-3be81b173e79"
      },
      "execution_count": null,
      "outputs": [
        {
          "output_type": "stream",
          "name": "stdout",
          "text": [
            "Path to dataset files: /kaggle/input/tiny-imagenet\n"
          ]
        }
      ]
    },
    {
      "cell_type": "code",
      "source": [
        "#save_path_model= ................./ciao.pth\n",
        "#save_path_opt= ..../ott.pth"
      ],
      "metadata": {
        "id": "DVHGNPtzn9ay"
      },
      "execution_count": null,
      "outputs": []
    }
  ]
}
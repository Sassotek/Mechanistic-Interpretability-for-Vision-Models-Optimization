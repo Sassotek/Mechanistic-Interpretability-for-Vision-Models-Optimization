{
  "cells": [
    {
      "cell_type": "markdown",
      "metadata": {
        "id": "view-in-github",
        "colab_type": "text"
      },
      "source": [
        "<a href=\"https://colab.research.google.com/github/Sassotek/Mechanistic-Interpretability-for-Vision-Models-Optimization/blob/main/Mechanistic_Interpretability_for_Vision_Models_Optimization_code.ipynb\" target=\"_parent\"><img src=\"https://colab.research.google.com/assets/colab-badge.svg\" alt=\"Open In Colab\"/></a>"
      ]
    },
    {
      "cell_type": "markdown",
      "metadata": {
        "id": "6jzzOI7xEby3"
      },
      "source": [
        "#Notes"
      ]
    },
    {
      "cell_type": "code",
      "execution_count": null,
      "metadata": {
        "colab": {
          "base_uri": "https://localhost:8080/"
        },
        "id": "I_VHf-HsUzA5",
        "outputId": "b22802e4-d922-4307-babd-c52911be1ed0"
      },
      "outputs": [
        {
          "name": "stdout",
          "output_type": "stream",
          "text": [
            "/bin/bash: line 1: swd: command not found\n"
          ]
        }
      ],
      "source": [
        "!swd"
      ]
    },
    {
      "cell_type": "markdown",
      "metadata": {
        "id": "8DEOK911Eext"
      },
      "source": [
        "##########Dataset Description\n",
        "File descriptions\n",
        "\n",
        "    train.images.zip - the training set (images distributed into class labeled folders)\n",
        "    test.zip\n",
        "   \n",
        "    wnids.txt - list of the used ids from the original full set of ImageNet\n",
        "    words.txt - description of all ids of ImageNet\n",
        "\n",
        "\n",
        "+++++ https://www.kaggle.com/datasets/wissamsalam/tiny-imagenet-cleaned-for-classification\n",
        "\n",
        "\n",
        "https://viso.ai/deep-learning/vision-transformer-vit/\n",
        "\n",
        "https://www.datacamp.com/tutorial/building-a-transformer-with-py-torch\n",
        "\n",
        "https://docs.pytorch.org/vision/main/models/vision_transformer.html\n",
        "\n",
        "https://github.com/lucidrains/vit-pytorch\n",
        "\n",
        "https://arxiv.org/pdf/2010.11929.pdf\n",
        "\n",
        "https://www.youtube.com/watch?v=j3VNqtJUoz0\n",
        "\n",
        "https://www.youtube.com/watch?v=vJF3TBI8esQ\n",
        "\n",
        "https://www.youtube.com/watch?v=nZ22Ecg9XCQ\n",
        "\n",
        "\n",
        "** Dataset link sbagliato**\n",
        "https://www.kaggle.com/c/tiny-imagenet\n",
        "\n",
        "\n",
        "Gradient Plot\n",
        "https://discuss.pytorch.org/t/check-gradient-flow-in-network/15063/37\n",
        "\n",
        "#####GuidaEinops\n",
        "\n",
        "https://nbviewer.org/github/arogozhnikov/einops/blob/main/docs/1-einops-basics.ipynb\n"
      ]
    },
    {
      "cell_type": "markdown",
      "metadata": {
        "id": "GaUn_8CcdgfP"
      },
      "source": [
        "**latent_size** (o anche detto embedding_dim, hidden_dim, ecc.) è la dimensione del vettore che rappresenta ogni patch dopo la proiezione lineare, ovvero la dimensione dello spazio latente in cui il modello \"lavora\".\n",
        "\n",
        "**class token** per ogni batch, un vettore speciale che sarà usato dal ViT per l'output della classificazione.\n",
        "\n",
        "**positional embedding** iniziale. Verrà poi ripetuta per il numero di patch + 1 (per il class token). Serve a dare informazioni sulla posizione dei patch nel Transformer.\n",
        "\n",
        "**patches = einops.rearrange**(\n",
        "    input,\n",
        "    'b c (h p1) (w p2) -> b (h w) (p1 p2 c)',\n",
        "    p1=self.patch_size, p2=self.patch_size\n",
        ")*\n",
        "Usa Einops per dividere ogni immagine in patch:\n",
        "\n",
        "    Input: (b, c, H, W)\n",
        "\n",
        "    Output: (b, N_patch, patch_dim), dove:\n",
        "\n",
        "        N_patch = (H // patch_size) * (W // patch_size)\n",
        "\n",
        "        patch_dim = patch_size * patch_size * c\n",
        "\n",
        "Esempio: immagine 64x64, patch_size=16 → 16 patch da 16x16x3"
      ]
    },
    {
      "cell_type": "code",
      "execution_count": null,
      "metadata": {
        "id": "EralO6LRwqIt"
      },
      "outputs": [],
      "source": [
        "#save_path_model= ................./ciao.pth\n",
        "#save_path_opt= ..../ott.pth"
      ]
    },
    {
      "cell_type": "markdown",
      "metadata": {
        "id": "vi9MeWdxbvxB"
      },
      "source": [
        "# Running Settings"
      ]
    },
    {
      "cell_type": "code",
      "execution_count": null,
      "metadata": {
        "id": "yLjOtez6bvPN"
      },
      "outputs": [],
      "source": [
        "Pi_gpu=0\n"
      ]
    },
    {
      "cell_type": "markdown",
      "metadata": {
        "id": "D8G8Wllzv7RG"
      },
      "source": [
        "#Imports"
      ]
    },
    {
      "cell_type": "code",
      "execution_count": 72,
      "metadata": {
        "colab": {
          "base_uri": "https://localhost:8080/"
        },
        "id": "0BiaX_tGip4X",
        "outputId": "28f0d2ee-9985-4237-a827-a4e287f020bc"
      },
      "outputs": [
        {
          "output_type": "stream",
          "name": "stdout",
          "text": [
            "Device cuda\n"
          ]
        }
      ],
      "source": [
        "import math\n",
        "import matplotlib\n",
        "import matplotlib.pyplot as plt\n",
        "plt.ion()\n",
        "import plotly.graph_objects as go\n",
        "from matplotlib.gridspec import GridSpec\n",
        "from matplotlib.patches import FancyArrowPatch\n",
        "import numpy as np\n",
        "from PIL import Image\n",
        "import cv2\n",
        "from skimage import io, color\n",
        "from collections import Counter\n",
        "\n",
        "\n",
        "#Kaggle\n",
        "!pip install kagglehub --quiet\n",
        "import kagglehub\n",
        "\n",
        "\n",
        "#PyTorch modules\n",
        "import torch\n",
        "import torch.nn as nn\n",
        "import torch.nn.functional as F\n",
        "from torch.nn import ModuleList\n",
        "from torch.utils.data import Dataset,DataLoader, SubsetRandomSampler, ConcatDataset\n",
        "import torchvision\n",
        "from torchvision import transforms,datasets\n",
        "from torchvision.transforms import InterpolationMode\n",
        "import torchvision.transforms.functional as TF\n",
        "from torchsummary import summary\n",
        "import torch.optim as optim\n",
        "\n",
        "\n",
        "import random\n",
        "import os\n",
        "import pandas as pd\n",
        "from tqdm.notebook import tqdm\n",
        "import time\n",
        "import seaborn as sns\n",
        "import einops\n",
        "import sys\n",
        "import requests\n",
        "import urllib.request\n",
        "from io import BytesIO\n",
        "from prettytable import PrettyTable\n",
        "from scipy import signal\n",
        "from scipy.fft import fft, fftfreq, fftshift\n",
        "\n",
        "\n",
        "from IPython.display import display, Markdown, clear_output\n",
        "from IPython.display import HTML\n",
        "import ipywidgets as widgets\n",
        "from ipywidgets import interact, IntSlider, FloatSlider, FloatRangeSlider, Dropdown, Output\n",
        "\n",
        "\n",
        "import sklearn\n",
        "from sklearn.metrics import confusion_matrix, classification_report, accuracy_score\n",
        "\n",
        "from timm.layers import DropPath\n",
        "from timm.data.mixup import Mixup\n",
        "from timm.loss.cross_entropy import SoftTargetCrossEntropy\n",
        "from torch.optim.lr_scheduler import LinearLR, CosineAnnealingLR, SequentialLR\n",
        "from torch.cuda.amp import GradScaler, autocast\n",
        "\n",
        "\n",
        "# Setting the seed\n",
        "torch.manual_seed(240700)\n",
        "device = torch.device(\"cuda\") if torch.cuda.is_available() else torch.device(\"cpu\")\n",
        "\n",
        "print(\"Device\",device)\n",
        "if torch.cuda.is_available():\n",
        "   torch.cuda.manual_seed(240700)\n",
        "   torch.cuda.manual_seed_all(240700)\n",
        "\n",
        "#ensure that all operations are deterministic on GPU if used,for reproducibility\n",
        "torch.backends.cudnn.deterministic = True\n",
        "torch.backends.cudnn.benchmark = False"
      ]
    },
    {
      "cell_type": "code",
      "execution_count": 13,
      "metadata": {
        "colab": {
          "base_uri": "https://localhost:8080/"
        },
        "id": "cgIpmOs2zPXv",
        "outputId": "3bd4e938-b19e-4554-d7e5-105a99f02a18"
      },
      "outputs": [
        {
          "output_type": "stream",
          "name": "stdout",
          "text": [
            "GPU is available!\n",
            "  -> GPU - Tesla T4\n",
            "\n",
            "Using cuda for computation\n",
            "Drive already mounted at /content/drive; to attempt to forcibly remount, call drive.mount(\"/content/drive\", force_remount=True).\n"
          ]
        }
      ],
      "source": [
        "device_list = [\"NVIDIA GeForce RTX 3070\", \"\"]\n",
        "\n",
        "def hardware_check():\n",
        "    # Check if GPU is available and return the device\n",
        "    if torch.cuda.is_available():\n",
        "        device = torch.device(\"cuda\")\n",
        "        device_name = torch.cuda.get_device_name()\n",
        "        print(f\"GPU is available!\")\n",
        "        print(f\"  -> GPU - {torch.cuda.get_device_name()}\")\n",
        "        #print(f\"  -> Total Memory: {torch.cuda.get_device_properties().total_memory / 1024**3:.2f} GB\")\n",
        "    else:\n",
        "        device = torch.device(\"cpu\")\n",
        "        print(\"GPU is not available, using CPU.\")\n",
        "        print(\"\\nCPU Information:\")\n",
        "\n",
        "        # Fix the backslash issue in the command string by escaping it\n",
        "        cpu_model = os.popen(\"cat /proc/cpuinfo | grep \\\"model name\\\" | uniq\").read().strip()\n",
        "        print(f\"CPU Model: {cpu_model}\")\n",
        "        print(f\"Number of CPU cores: {os.cpu_count()}\")\n",
        "\n",
        "    return device, device_name\n",
        "\n",
        "device, device_name = hardware_check()\n",
        "print(f\"\\nUsing {device} for computation\")\n",
        "\n",
        "\n",
        "## Google Drive settings, only if is not local runtime\n",
        "if device_name not in device_list:\n",
        "  from google.colab.patches import cv2_imshow\n",
        "  from google.colab import drive\n",
        "  drive.mount('/content/drive')\n"
      ]
    },
    {
      "cell_type": "code",
      "execution_count": 14,
      "metadata": {
        "id": "h4GAXMnpXI7K"
      },
      "outputs": [],
      "source": [
        "import nbformat\n",
        "from pathlib import Path\n",
        "\n",
        "def fix_widgets_metadata(path: Path):\n",
        "    nb = nbformat.read(path, as_version=4)\n",
        "    # Se c’è una sezione globale widgets, assicuriamoci che ogni entry abbia 'state'\n",
        "    widgets = nb.metadata.get(\"widgets\", {})\n",
        "    for name, meta in widgets.items():\n",
        "        meta.setdefault(\"state\", {})\n",
        "    if widgets:\n",
        "        nb.metadata[\"widgets\"] = widgets\n",
        "\n",
        "    # Stessa cosa per ogni cella\n",
        "    for cell in nb.cells:\n",
        "        widgets = cell.metadata.get(\"widgets\", {})\n",
        "        for name, meta in widgets.items():\n",
        "            meta.setdefault(\"state\", {})\n",
        "        if widgets:\n",
        "            cell.metadata[\"widgets\"] = widgets\n",
        "\n",
        "    nbformat.write(nb, path)\n",
        "\n"
      ]
    },
    {
      "cell_type": "markdown",
      "metadata": {
        "id": "fHCbuzIqFd50"
      },
      "source": [
        "# Globals"
      ]
    },
    {
      "cell_type": "code",
      "execution_count": 15,
      "metadata": {
        "id": "uimoN7OJFgXo"
      },
      "outputs": [],
      "source": [
        "directory_drive=\"/content/drive/File_projects_CV\"\n",
        "directory_saved_models_drive=\"/content/drive/MyDrive//File_projects_CV/\"\n",
        "directory_saved_optimizers_drive=\"/content/drive/MyDrive//File_projects_CV/\"\n",
        "notebook_path= Path(\"/content/drive/MyDrive/File_projects_CV/Mechanistic_Interpretability_for_Vision_Models_Optimization_code.ipynb\")\n",
        "\n",
        "path_saves_pc_pi = \"/home/user/work/Saved_Models/\"\n",
        "local_path = \"/home/user/work/tiny-imagenet-200\"\n",
        "\n",
        "RED = \"\\033[31m\"\n",
        "GREEN = \"\\033[32m\"\n",
        "BLUE = \"\\033[34m\"\n",
        "RESET = \"\\033[0m\"\n",
        "CYAN=\"\\033[36m\"\n",
        "MAGENTA=\"\\033[35m\"\n",
        "\n",
        "#Transformer hyperparameters\n",
        "patch_size = 16\n",
        "latent_size = 768\n",
        "#latent_size = 384\n",
        "n_channels = 3\n",
        "n_heads = 12\n",
        "#n_heads = 6\n",
        "n_encoders = 12\n",
        "#n_encoders = 6\n",
        "dropout = 0.1\n",
        "n_classes = 200 #According to tinyimagenet\n",
        "image_size = 64 #According to tinyimagenet\n",
        "\n",
        "#Training\n",
        "batch_size = 128\n",
        "threshold = 10e-3\n",
        "weight_decay = 0.01\n",
        "label_smoothing = 0.1\n",
        "learning_rate = 1e-4\n",
        "\n",
        "# ImageNet mean and std\n",
        "MEAN = [0.485, 0.456, 0.406]\n",
        "STD  = [0.229, 0.224, 0.225]"
      ]
    },
    {
      "cell_type": "markdown",
      "metadata": {
        "id": "bFwpDmIWVWxs"
      },
      "source": [
        "#Data"
      ]
    },
    {
      "cell_type": "markdown",
      "metadata": {
        "id": "aqcwcwD_aOIg"
      },
      "source": [
        "##Dataset Loading"
      ]
    },
    {
      "cell_type": "code",
      "execution_count": 28,
      "metadata": {
        "colab": {
          "base_uri": "https://localhost:8080/"
        },
        "id": "4YoeVA5EcadQ",
        "outputId": "d65c8131-714c-452d-dd1c-7abae633bb6d"
      },
      "outputs": [
        {
          "output_type": "stream",
          "name": "stdout",
          "text": [
            "Downloading from https://www.kaggle.com/api/v1/datasets/download/wissamsalam/tiny-imagenet-cleaned-for-classification?dataset_version_number=1...\n"
          ]
        },
        {
          "output_type": "stream",
          "name": "stderr",
          "text": [
            "100%|██████████| 214M/214M [00:10<00:00, 21.0MB/s]"
          ]
        },
        {
          "output_type": "stream",
          "name": "stdout",
          "text": [
            "Extracting files...\n"
          ]
        },
        {
          "output_type": "stream",
          "name": "stderr",
          "text": [
            "\n"
          ]
        },
        {
          "output_type": "stream",
          "name": "stdout",
          "text": [
            "Path to dataset files: /root/.cache/kagglehub/datasets/wissamsalam/tiny-imagenet-cleaned-for-classification/versions/1/tiny-imagenet-200/\n"
          ]
        }
      ],
      "source": [
        "#data_path = kagglehub.dataset_download(\"akash2sharma/tiny-imagenet\")\n",
        "if device_name in device_list:\n",
        "  data_path = local_path\n",
        "else:\n",
        "  data_path= kagglehub.dataset_download(\"wissamsalam/tiny-imagenet-cleaned-for-classification\")\n",
        "  data_path= data_path+'/tiny-imagenet-200/'\n",
        "  print(\"Path to dataset files:\", data_path)"
      ]
    },
    {
      "cell_type": "code",
      "execution_count": 29,
      "metadata": {
        "id": "97i9LMQSV1vS"
      },
      "outputs": [],
      "source": [
        "def print_dataset_structure(root_dir, max_classes=3, max_images=3):\n",
        "    print(f\"📁 Directory: {root_dir}\\n\")\n",
        "\n",
        "    class_dirs_all = []\n",
        "    root_items = sorted(os.listdir(root_dir))\n",
        "    for item in root_items:\n",
        "        item_path = os.path.join(root_dir, item)\n",
        "\n",
        "        if os.path.isfile(item_path):\n",
        "            print(f\"📄 {item}\")\n",
        "\n",
        "        elif os.path.isdir(item_path) and item in ['train', 'val', 'test']:\n",
        "            print(f\"\\n📂 {item}/\")\n",
        "\n",
        "            class_dirs_all = sorted([\n",
        "                d for d in os.listdir(item_path)\n",
        "                if os.path.isdir(os.path.join(item_path, d))\n",
        "            ])\n",
        "            class_dirs = class_dirs_all[:max_classes]\n",
        "\n",
        "            if not class_dirs:\n",
        "                print(f\"  (No subdirectory found into {item}/)\")\n",
        "                continue\n",
        "\n",
        "            for cls in class_dirs:\n",
        "                cls_path = os.path.join(item_path, cls)\n",
        "                print(f\"  ├── {cls}/\")\n",
        "\n",
        "                image_files_all = sorted([\n",
        "                    f for f in os.listdir(cls_path)\n",
        "                    if os.path.isfile(os.path.join(cls_path, f))\n",
        "                ])\n",
        "                image_files = image_files_all[:max_images]\n",
        "\n",
        "                for img in image_files:\n",
        "                    print(f\"  │   ├── {img}\")\n",
        "\n",
        "                if len(image_files_all) > max_images:\n",
        "                    print(f\"  │   └── ...\")\n",
        "\n",
        "            if len(class_dirs_all) > max_classes:\n",
        "                print(f\"  └── ...\")\n",
        "\n",
        "    dataset_data = []\n",
        "\n",
        "    for item_ in root_items:\n",
        "        item_path_ = os.path.join(root_dir, item_)\n",
        "\n",
        "        if os.path.isdir(item_path_) and item_ in ['train', 'val', 'test']:\n",
        "            class_dirs_ = sorted([\n",
        "                d for d in os.listdir(item_path_)\n",
        "                if os.path.isdir(os.path.join(item_path_, d))\n",
        "            ])\n",
        "\n",
        "            if not class_dirs_:\n",
        "                continue\n",
        "\n",
        "            for cls in class_dirs_:\n",
        "                cls_path_ = os.path.join(item_path_, cls)\n",
        "\n",
        "                image_files_ = sorted([\n",
        "                    f for f in os.listdir(cls_path_)\n",
        "                    if os.path.isfile(os.path.join(cls_path_, f))\n",
        "                ])\n",
        "                if(item_ == 'train'):\n",
        "                  size = len(image_files_)-1\n",
        "                else:\n",
        "                  size = len(image_files_)\n",
        "                dataset_data.append((item_, cls, size))\n",
        "\n",
        "    return class_dirs_all, dataset_data"
      ]
    },
    {
      "cell_type": "code",
      "execution_count": 30,
      "metadata": {
        "colab": {
          "base_uri": "https://localhost:8080/"
        },
        "id": "F7O4cB-xzMO2",
        "outputId": "4a9f2ffa-aaae-464a-a62c-75ccbddcfbfe"
      },
      "outputs": [
        {
          "output_type": "stream",
          "name": "stdout",
          "text": [
            "/root/.cache/kagglehub/datasets/wissamsalam/tiny-imagenet-cleaned-for-classification/versions/1/tiny-imagenet-200/\n",
            "📁 Directory: /root/.cache/kagglehub/datasets/wissamsalam/tiny-imagenet-cleaned-for-classification/versions/1/tiny-imagenet-200/\n",
            "\n",
            "\n",
            "📂 test/\n",
            "  ├── n01443537/\n",
            "  │   ├── n01443537_0.JPEG\n",
            "  │   ├── n01443537_1.JPEG\n",
            "  │   ├── n01443537_101.JPEG\n",
            "  │   └── ...\n",
            "  ├── n01629819/\n",
            "  │   ├── n01629819_0.JPEG\n",
            "  │   ├── n01629819_1.JPEG\n",
            "  │   ├── n01629819_10.JPEG\n",
            "  │   └── ...\n",
            "  ├── n01641577/\n",
            "  │   ├── n01641577_0.JPEG\n",
            "  │   ├── n01641577_1.JPEG\n",
            "  │   ├── n01641577_104.JPEG\n",
            "  │   └── ...\n",
            "  └── ...\n",
            "\n",
            "📂 train/\n",
            "  ├── n01443537/\n",
            "  │   ├── n01443537_10.JPEG\n",
            "  │   ├── n01443537_100.JPEG\n",
            "  │   ├── n01443537_102.JPEG\n",
            "  │   └── ...\n",
            "  ├── n01629819/\n",
            "  │   ├── n01629819_100.JPEG\n",
            "  │   ├── n01629819_101.JPEG\n",
            "  │   ├── n01629819_102.JPEG\n",
            "  │   └── ...\n",
            "  ├── n01641577/\n",
            "  │   ├── n01641577_10.JPEG\n",
            "  │   ├── n01641577_100.JPEG\n",
            "  │   ├── n01641577_101.JPEG\n",
            "  │   └── ...\n",
            "  └── ...\n",
            "\n",
            "📂 val/\n",
            "  ├── n01443537/\n",
            "  │   ├── val_1230.JPEG\n",
            "  │   ├── val_1267.JPEG\n",
            "  │   ├── val_1284.JPEG\n",
            "  │   └── ...\n",
            "  ├── n01629819/\n",
            "  │   ├── val_1054.JPEG\n",
            "  │   ├── val_1167.JPEG\n",
            "  │   ├── val_1535.JPEG\n",
            "  │   └── ...\n",
            "  ├── n01641577/\n",
            "  │   ├── val_1144.JPEG\n",
            "  │   ├── val_1251.JPEG\n",
            "  │   ├── val_130.JPEG\n",
            "  │   └── ...\n",
            "  └── ...\n",
            "📄 wnids.txt\n",
            "📄 words.txt\n",
            "\n",
            "\n",
            "Raw Data\n",
            "[('test', 'n01443537', 80), ('test', 'n01629819', 80), ('test', 'n01641577', 80), ('test', 'n01644900', 80), ('test', 'n01698640', 80), ('test', 'n01742172', 80), ('test', 'n01768244', 80), ('test', 'n01770393', 80), ('test', 'n01774384', 80), ('test', 'n01774750', 80), ('test', 'n01784675', 80), ('test', 'n01855672', 80), ('test', 'n01882714', 80), ('test', 'n01910747', 80), ('test', 'n01917289', 80), ('test', 'n01944390', 80), ('test', 'n01945685', 80), ('test', 'n01950731', 80), ('test', 'n01983481', 80), ('test', 'n01984695', 80), ('test', 'n02002724', 80), ('test', 'n02056570', 80), ('test', 'n02058221', 80), ('test', 'n02074367', 80), ('test', 'n02085620', 80), ('test', 'n02094433', 80), ('test', 'n02099601', 80), ('test', 'n02099712', 80), ('test', 'n02106662', 80), ('test', 'n02113799', 80), ('test', 'n02123045', 80), ('test', 'n02123394', 80), ('test', 'n02124075', 80), ('test', 'n02125311', 80), ('test', 'n02129165', 80), ('test', 'n02132136', 80), ('test', 'n02165456', 80), ('test', 'n02190166', 80), ('test', 'n02206856', 80), ('test', 'n02226429', 80), ('test', 'n02231487', 80), ('test', 'n02233338', 80), ('test', 'n02236044', 80), ('test', 'n02268443', 80), ('test', 'n02279972', 80), ('test', 'n02281406', 80), ('test', 'n02321529', 80), ('test', 'n02364673', 80), ('test', 'n02395406', 80), ('test', 'n02403003', 80), ('test', 'n02410509', 80), ('test', 'n02415577', 80), ('test', 'n02423022', 80), ('test', 'n02437312', 80), ('test', 'n02480495', 80), ('test', 'n02481823', 80), ('test', 'n02486410', 80), ('test', 'n02504458', 80), ('test', 'n02509815', 80), ('test', 'n02666196', 80), ('test', 'n02669723', 80), ('test', 'n02699494', 80), ('test', 'n02730930', 80), ('test', 'n02769748', 80), ('test', 'n02788148', 80), ('test', 'n02791270', 80), ('test', 'n02793495', 80), ('test', 'n02795169', 80), ('test', 'n02802426', 80), ('test', 'n02808440', 80), ('test', 'n02814533', 80), ('test', 'n02814860', 80), ('test', 'n02815834', 80), ('test', 'n02823428', 80), ('test', 'n02837789', 80), ('test', 'n02841315', 80), ('test', 'n02843684', 80), ('test', 'n02883205', 80), ('test', 'n02892201', 80), ('test', 'n02906734', 80), ('test', 'n02909870', 80), ('test', 'n02917067', 80), ('test', 'n02927161', 80), ('test', 'n02948072', 80), ('test', 'n02950826', 80), ('test', 'n02963159', 80), ('test', 'n02977058', 80), ('test', 'n02988304', 80), ('test', 'n02999410', 80), ('test', 'n03014705', 80), ('test', 'n03026506', 80), ('test', 'n03042490', 80), ('test', 'n03085013', 80), ('test', 'n03089624', 80), ('test', 'n03100240', 80), ('test', 'n03126707', 80), ('test', 'n03160309', 80), ('test', 'n03179701', 80), ('test', 'n03201208', 80), ('test', 'n03250847', 80), ('test', 'n03255030', 80), ('test', 'n03355925', 80), ('test', 'n03388043', 80), ('test', 'n03393912', 80), ('test', 'n03400231', 80), ('test', 'n03404251', 80), ('test', 'n03424325', 80), ('test', 'n03444034', 80), ('test', 'n03447447', 80), ('test', 'n03544143', 80), ('test', 'n03584254', 80), ('test', 'n03599486', 80), ('test', 'n03617480', 80), ('test', 'n03637318', 80), ('test', 'n03649909', 80), ('test', 'n03662601', 80), ('test', 'n03670208', 80), ('test', 'n03706229', 80), ('test', 'n03733131', 80), ('test', 'n03763968', 80), ('test', 'n03770439', 80), ('test', 'n03796401', 80), ('test', 'n03804744', 80), ('test', 'n03814639', 80), ('test', 'n03837869', 80), ('test', 'n03838899', 80), ('test', 'n03854065', 80), ('test', 'n03891332', 80), ('test', 'n03902125', 80), ('test', 'n03930313', 80), ('test', 'n03937543', 80), ('test', 'n03970156', 80), ('test', 'n03976657', 80), ('test', 'n03977966', 80), ('test', 'n03980874', 80), ('test', 'n03983396', 80), ('test', 'n03992509', 80), ('test', 'n04008634', 80), ('test', 'n04023962', 80), ('test', 'n04067472', 80), ('test', 'n04070727', 80), ('test', 'n04074963', 80), ('test', 'n04099969', 80), ('test', 'n04118538', 80), ('test', 'n04133789', 80), ('test', 'n04146614', 80), ('test', 'n04149813', 80), ('test', 'n04179913', 80), ('test', 'n04251144', 80), ('test', 'n04254777', 80), ('test', 'n04259630', 80), ('test', 'n04265275', 80), ('test', 'n04275548', 80), ('test', 'n04285008', 80), ('test', 'n04311004', 80), ('test', 'n04328186', 80), ('test', 'n04356056', 80), ('test', 'n04366367', 80), ('test', 'n04371430', 80), ('test', 'n04376876', 80), ('test', 'n04398044', 80), ('test', 'n04399382', 80), ('test', 'n04417672', 80), ('test', 'n04456115', 80), ('test', 'n04465501', 80), ('test', 'n04486054', 80), ('test', 'n04487081', 80), ('test', 'n04501370', 80), ('test', 'n04507155', 80), ('test', 'n04532106', 80), ('test', 'n04532670', 80), ('test', 'n04540053', 80), ('test', 'n04560804', 80), ('test', 'n04562935', 80), ('test', 'n04596742', 80), ('test', 'n04597913', 80), ('test', 'n06596364', 80), ('test', 'n07579787', 80), ('test', 'n07583066', 80), ('test', 'n07614500', 80), ('test', 'n07615774', 80), ('test', 'n07695742', 80), ('test', 'n07711569', 80), ('test', 'n07715103', 80), ('test', 'n07720875', 80), ('test', 'n07734744', 80), ('test', 'n07747607', 80), ('test', 'n07749582', 80), ('test', 'n07753592', 80), ('test', 'n07768694', 80), ('test', 'n07871810', 80), ('test', 'n07873807', 80), ('test', 'n07875152', 80), ('test', 'n07920052', 80), ('test', 'n09193705', 80), ('test', 'n09246464', 80), ('test', 'n09256479', 80), ('test', 'n09332890', 80), ('test', 'n09428293', 80), ('test', 'n12267677', 80), ('train', 'n01443537', 420), ('train', 'n01629819', 420), ('train', 'n01641577', 420), ('train', 'n01644900', 420), ('train', 'n01698640', 420), ('train', 'n01742172', 420), ('train', 'n01768244', 420), ('train', 'n01770393', 420), ('train', 'n01774384', 420), ('train', 'n01774750', 420), ('train', 'n01784675', 420), ('train', 'n01855672', 420), ('train', 'n01882714', 420), ('train', 'n01910747', 420), ('train', 'n01917289', 420), ('train', 'n01944390', 420), ('train', 'n01945685', 420), ('train', 'n01950731', 420), ('train', 'n01983481', 420), ('train', 'n01984695', 420), ('train', 'n02002724', 420), ('train', 'n02056570', 420), ('train', 'n02058221', 420), ('train', 'n02074367', 420), ('train', 'n02085620', 420), ('train', 'n02094433', 420), ('train', 'n02099601', 420), ('train', 'n02099712', 420), ('train', 'n02106662', 420), ('train', 'n02113799', 420), ('train', 'n02123045', 420), ('train', 'n02123394', 420), ('train', 'n02124075', 420), ('train', 'n02125311', 420), ('train', 'n02129165', 420), ('train', 'n02132136', 420), ('train', 'n02165456', 420), ('train', 'n02190166', 420), ('train', 'n02206856', 420), ('train', 'n02226429', 420), ('train', 'n02231487', 420), ('train', 'n02233338', 420), ('train', 'n02236044', 420), ('train', 'n02268443', 420), ('train', 'n02279972', 420), ('train', 'n02281406', 420), ('train', 'n02321529', 420), ('train', 'n02364673', 420), ('train', 'n02395406', 420), ('train', 'n02403003', 420), ('train', 'n02410509', 420), ('train', 'n02415577', 420), ('train', 'n02423022', 420), ('train', 'n02437312', 420), ('train', 'n02480495', 420), ('train', 'n02481823', 420), ('train', 'n02486410', 420), ('train', 'n02504458', 420), ('train', 'n02509815', 420), ('train', 'n02666196', 420), ('train', 'n02669723', 420), ('train', 'n02699494', 420), ('train', 'n02730930', 420), ('train', 'n02769748', 420), ('train', 'n02788148', 420), ('train', 'n02791270', 420), ('train', 'n02793495', 420), ('train', 'n02795169', 420), ('train', 'n02802426', 420), ('train', 'n02808440', 420), ('train', 'n02814533', 420), ('train', 'n02814860', 420), ('train', 'n02815834', 420), ('train', 'n02823428', 420), ('train', 'n02837789', 420), ('train', 'n02841315', 420), ('train', 'n02843684', 420), ('train', 'n02883205', 420), ('train', 'n02892201', 420), ('train', 'n02906734', 420), ('train', 'n02909870', 420), ('train', 'n02917067', 420), ('train', 'n02927161', 420), ('train', 'n02948072', 420), ('train', 'n02950826', 420), ('train', 'n02963159', 420), ('train', 'n02977058', 420), ('train', 'n02988304', 420), ('train', 'n02999410', 420), ('train', 'n03014705', 420), ('train', 'n03026506', 420), ('train', 'n03042490', 420), ('train', 'n03085013', 420), ('train', 'n03089624', 420), ('train', 'n03100240', 420), ('train', 'n03126707', 420), ('train', 'n03160309', 420), ('train', 'n03179701', 420), ('train', 'n03201208', 420), ('train', 'n03250847', 420), ('train', 'n03255030', 420), ('train', 'n03355925', 420), ('train', 'n03388043', 420), ('train', 'n03393912', 420), ('train', 'n03400231', 420), ('train', 'n03404251', 420), ('train', 'n03424325', 420), ('train', 'n03444034', 420), ('train', 'n03447447', 420), ('train', 'n03544143', 420), ('train', 'n03584254', 420), ('train', 'n03599486', 420), ('train', 'n03617480', 420), ('train', 'n03637318', 420), ('train', 'n03649909', 420), ('train', 'n03662601', 420), ('train', 'n03670208', 420), ('train', 'n03706229', 420), ('train', 'n03733131', 420), ('train', 'n03763968', 420), ('train', 'n03770439', 420), ('train', 'n03796401', 420), ('train', 'n03804744', 420), ('train', 'n03814639', 420), ('train', 'n03837869', 420), ('train', 'n03838899', 420), ('train', 'n03854065', 420), ('train', 'n03891332', 420), ('train', 'n03902125', 420), ('train', 'n03930313', 420), ('train', 'n03937543', 420), ('train', 'n03970156', 420), ('train', 'n03976657', 420), ('train', 'n03977966', 420), ('train', 'n03980874', 420), ('train', 'n03983396', 420), ('train', 'n03992509', 420), ('train', 'n04008634', 420), ('train', 'n04023962', 420), ('train', 'n04067472', 420), ('train', 'n04070727', 420), ('train', 'n04074963', 420), ('train', 'n04099969', 420), ('train', 'n04118538', 420), ('train', 'n04133789', 420), ('train', 'n04146614', 420), ('train', 'n04149813', 420), ('train', 'n04179913', 420), ('train', 'n04251144', 420), ('train', 'n04254777', 420), ('train', 'n04259630', 420), ('train', 'n04265275', 420), ('train', 'n04275548', 420), ('train', 'n04285008', 420), ('train', 'n04311004', 420), ('train', 'n04328186', 420), ('train', 'n04356056', 420), ('train', 'n04366367', 420), ('train', 'n04371430', 420), ('train', 'n04376876', 420), ('train', 'n04398044', 420), ('train', 'n04399382', 420), ('train', 'n04417672', 420), ('train', 'n04456115', 420), ('train', 'n04465501', 420), ('train', 'n04486054', 420), ('train', 'n04487081', 420), ('train', 'n04501370', 420), ('train', 'n04507155', 420), ('train', 'n04532106', 420), ('train', 'n04532670', 420), ('train', 'n04540053', 420), ('train', 'n04560804', 420), ('train', 'n04562935', 420), ('train', 'n04596742', 420), ('train', 'n04597913', 420), ('train', 'n06596364', 420), ('train', 'n07579787', 420), ('train', 'n07583066', 420), ('train', 'n07614500', 420), ('train', 'n07615774', 420), ('train', 'n07695742', 420), ('train', 'n07711569', 420), ('train', 'n07715103', 420), ('train', 'n07720875', 420), ('train', 'n07734744', 420), ('train', 'n07747607', 420), ('train', 'n07749582', 420), ('train', 'n07753592', 420), ('train', 'n07768694', 420), ('train', 'n07871810', 420), ('train', 'n07873807', 420), ('train', 'n07875152', 420), ('train', 'n07920052', 420), ('train', 'n09193705', 420), ('train', 'n09246464', 420), ('train', 'n09256479', 420), ('train', 'n09332890', 420), ('train', 'n09428293', 420), ('train', 'n12267677', 420), ('val', 'n01443537', 50), ('val', 'n01629819', 50), ('val', 'n01641577', 50), ('val', 'n01644900', 50), ('val', 'n01698640', 50), ('val', 'n01742172', 50), ('val', 'n01768244', 50), ('val', 'n01770393', 50), ('val', 'n01774384', 50), ('val', 'n01774750', 50), ('val', 'n01784675', 50), ('val', 'n01855672', 50), ('val', 'n01882714', 50), ('val', 'n01910747', 50), ('val', 'n01917289', 50), ('val', 'n01944390', 50), ('val', 'n01945685', 50), ('val', 'n01950731', 50), ('val', 'n01983481', 50), ('val', 'n01984695', 50), ('val', 'n02002724', 50), ('val', 'n02056570', 50), ('val', 'n02058221', 50), ('val', 'n02074367', 50), ('val', 'n02085620', 50), ('val', 'n02094433', 50), ('val', 'n02099601', 50), ('val', 'n02099712', 50), ('val', 'n02106662', 50), ('val', 'n02113799', 50), ('val', 'n02123045', 50), ('val', 'n02123394', 50), ('val', 'n02124075', 50), ('val', 'n02125311', 50), ('val', 'n02129165', 50), ('val', 'n02132136', 50), ('val', 'n02165456', 50), ('val', 'n02190166', 50), ('val', 'n02206856', 50), ('val', 'n02226429', 50), ('val', 'n02231487', 50), ('val', 'n02233338', 50), ('val', 'n02236044', 50), ('val', 'n02268443', 50), ('val', 'n02279972', 50), ('val', 'n02281406', 50), ('val', 'n02321529', 50), ('val', 'n02364673', 50), ('val', 'n02395406', 50), ('val', 'n02403003', 50), ('val', 'n02410509', 50), ('val', 'n02415577', 50), ('val', 'n02423022', 50), ('val', 'n02437312', 50), ('val', 'n02480495', 50), ('val', 'n02481823', 50), ('val', 'n02486410', 50), ('val', 'n02504458', 50), ('val', 'n02509815', 50), ('val', 'n02666196', 50), ('val', 'n02669723', 50), ('val', 'n02699494', 50), ('val', 'n02730930', 50), ('val', 'n02769748', 50), ('val', 'n02788148', 50), ('val', 'n02791270', 50), ('val', 'n02793495', 50), ('val', 'n02795169', 50), ('val', 'n02802426', 50), ('val', 'n02808440', 50), ('val', 'n02814533', 50), ('val', 'n02814860', 50), ('val', 'n02815834', 50), ('val', 'n02823428', 50), ('val', 'n02837789', 50), ('val', 'n02841315', 50), ('val', 'n02843684', 50), ('val', 'n02883205', 50), ('val', 'n02892201', 50), ('val', 'n02906734', 50), ('val', 'n02909870', 50), ('val', 'n02917067', 50), ('val', 'n02927161', 50), ('val', 'n02948072', 50), ('val', 'n02950826', 50), ('val', 'n02963159', 50), ('val', 'n02977058', 50), ('val', 'n02988304', 50), ('val', 'n02999410', 50), ('val', 'n03014705', 50), ('val', 'n03026506', 50), ('val', 'n03042490', 50), ('val', 'n03085013', 50), ('val', 'n03089624', 50), ('val', 'n03100240', 50), ('val', 'n03126707', 50), ('val', 'n03160309', 50), ('val', 'n03179701', 50), ('val', 'n03201208', 50), ('val', 'n03250847', 50), ('val', 'n03255030', 50), ('val', 'n03355925', 50), ('val', 'n03388043', 50), ('val', 'n03393912', 50), ('val', 'n03400231', 50), ('val', 'n03404251', 50), ('val', 'n03424325', 50), ('val', 'n03444034', 50), ('val', 'n03447447', 50), ('val', 'n03544143', 50), ('val', 'n03584254', 50), ('val', 'n03599486', 50), ('val', 'n03617480', 50), ('val', 'n03637318', 50), ('val', 'n03649909', 50), ('val', 'n03662601', 50), ('val', 'n03670208', 50), ('val', 'n03706229', 50), ('val', 'n03733131', 50), ('val', 'n03763968', 50), ('val', 'n03770439', 50), ('val', 'n03796401', 50), ('val', 'n03804744', 50), ('val', 'n03814639', 50), ('val', 'n03837869', 50), ('val', 'n03838899', 50), ('val', 'n03854065', 50), ('val', 'n03891332', 50), ('val', 'n03902125', 50), ('val', 'n03930313', 50), ('val', 'n03937543', 50), ('val', 'n03970156', 50), ('val', 'n03976657', 50), ('val', 'n03977966', 50), ('val', 'n03980874', 50), ('val', 'n03983396', 50), ('val', 'n03992509', 50), ('val', 'n04008634', 50), ('val', 'n04023962', 50), ('val', 'n04067472', 50), ('val', 'n04070727', 50), ('val', 'n04074963', 50), ('val', 'n04099969', 50), ('val', 'n04118538', 50), ('val', 'n04133789', 50), ('val', 'n04146614', 50), ('val', 'n04149813', 50), ('val', 'n04179913', 50), ('val', 'n04251144', 50), ('val', 'n04254777', 50), ('val', 'n04259630', 50), ('val', 'n04265275', 50), ('val', 'n04275548', 50), ('val', 'n04285008', 50), ('val', 'n04311004', 50), ('val', 'n04328186', 50), ('val', 'n04356056', 50), ('val', 'n04366367', 50), ('val', 'n04371430', 50), ('val', 'n04376876', 50), ('val', 'n04398044', 50), ('val', 'n04399382', 50), ('val', 'n04417672', 50), ('val', 'n04456115', 50), ('val', 'n04465501', 50), ('val', 'n04486054', 50), ('val', 'n04487081', 50), ('val', 'n04501370', 50), ('val', 'n04507155', 50), ('val', 'n04532106', 50), ('val', 'n04532670', 50), ('val', 'n04540053', 50), ('val', 'n04560804', 50), ('val', 'n04562935', 50), ('val', 'n04596742', 50), ('val', 'n04597913', 50), ('val', 'n06596364', 50), ('val', 'n07579787', 50), ('val', 'n07583066', 50), ('val', 'n07614500', 50), ('val', 'n07615774', 50), ('val', 'n07695742', 50), ('val', 'n07711569', 50), ('val', 'n07715103', 50), ('val', 'n07720875', 50), ('val', 'n07734744', 50), ('val', 'n07747607', 50), ('val', 'n07749582', 50), ('val', 'n07753592', 50), ('val', 'n07768694', 50), ('val', 'n07871810', 50), ('val', 'n07873807', 50), ('val', 'n07875152', 50), ('val', 'n07920052', 50), ('val', 'n09193705', 50), ('val', 'n09246464', 50), ('val', 'n09256479', 50), ('val', 'n09332890', 50), ('val', 'n09428293', 50), ('val', 'n12267677', 50)]\n",
            "\n",
            "\n",
            "Mean_for_training\n",
            "420.0\n",
            "Mean_for_validation\n",
            "50.0\n",
            "Mean_for_test\n",
            "80.0\n",
            "\n",
            "\n",
            "Class distributions identical\n",
            "\n",
            "All Class Labels\n",
            "['n01443537', 'n01629819', 'n01641577', 'n01644900', 'n01698640', 'n01742172', 'n01768244', 'n01770393', 'n01774384', 'n01774750', 'n01784675', 'n01855672', 'n01882714', 'n01910747', 'n01917289', 'n01944390', 'n01945685', 'n01950731', 'n01983481', 'n01984695', 'n02002724', 'n02056570', 'n02058221', 'n02074367', 'n02085620', 'n02094433', 'n02099601', 'n02099712', 'n02106662', 'n02113799', 'n02123045', 'n02123394', 'n02124075', 'n02125311', 'n02129165', 'n02132136', 'n02165456', 'n02190166', 'n02206856', 'n02226429', 'n02231487', 'n02233338', 'n02236044', 'n02268443', 'n02279972', 'n02281406', 'n02321529', 'n02364673', 'n02395406', 'n02403003', 'n02410509', 'n02415577', 'n02423022', 'n02437312', 'n02480495', 'n02481823', 'n02486410', 'n02504458', 'n02509815', 'n02666196', 'n02669723', 'n02699494', 'n02730930', 'n02769748', 'n02788148', 'n02791270', 'n02793495', 'n02795169', 'n02802426', 'n02808440', 'n02814533', 'n02814860', 'n02815834', 'n02823428', 'n02837789', 'n02841315', 'n02843684', 'n02883205', 'n02892201', 'n02906734', 'n02909870', 'n02917067', 'n02927161', 'n02948072', 'n02950826', 'n02963159', 'n02977058', 'n02988304', 'n02999410', 'n03014705', 'n03026506', 'n03042490', 'n03085013', 'n03089624', 'n03100240', 'n03126707', 'n03160309', 'n03179701', 'n03201208', 'n03250847', 'n03255030', 'n03355925', 'n03388043', 'n03393912', 'n03400231', 'n03404251', 'n03424325', 'n03444034', 'n03447447', 'n03544143', 'n03584254', 'n03599486', 'n03617480', 'n03637318', 'n03649909', 'n03662601', 'n03670208', 'n03706229', 'n03733131', 'n03763968', 'n03770439', 'n03796401', 'n03804744', 'n03814639', 'n03837869', 'n03838899', 'n03854065', 'n03891332', 'n03902125', 'n03930313', 'n03937543', 'n03970156', 'n03976657', 'n03977966', 'n03980874', 'n03983396', 'n03992509', 'n04008634', 'n04023962', 'n04067472', 'n04070727', 'n04074963', 'n04099969', 'n04118538', 'n04133789', 'n04146614', 'n04149813', 'n04179913', 'n04251144', 'n04254777', 'n04259630', 'n04265275', 'n04275548', 'n04285008', 'n04311004', 'n04328186', 'n04356056', 'n04366367', 'n04371430', 'n04376876', 'n04398044', 'n04399382', 'n04417672', 'n04456115', 'n04465501', 'n04486054', 'n04487081', 'n04501370', 'n04507155', 'n04532106', 'n04532670', 'n04540053', 'n04560804', 'n04562935', 'n04596742', 'n04597913', 'n06596364', 'n07579787', 'n07583066', 'n07614500', 'n07615774', 'n07695742', 'n07711569', 'n07715103', 'n07720875', 'n07734744', 'n07747607', 'n07749582', 'n07753592', 'n07768694', 'n07871810', 'n07873807', 'n07875152', 'n07920052', 'n09193705', 'n09246464', 'n09256479', 'n09332890', 'n09428293', 'n12267677']\n",
            "\n",
            "\n",
            "Number of Class Labels\n",
            "200\n",
            "\n",
            "\n",
            "Lables Encoding\n",
            "{'n01443537': 0, 'n01629819': 1, 'n01641577': 2, 'n01644900': 3, 'n01698640': 4, 'n01742172': 5, 'n01768244': 6, 'n01770393': 7, 'n01774384': 8, 'n01774750': 9, 'n01784675': 10, 'n01855672': 11, 'n01882714': 12, 'n01910747': 13, 'n01917289': 14, 'n01944390': 15, 'n01945685': 16, 'n01950731': 17, 'n01983481': 18, 'n01984695': 19, 'n02002724': 20, 'n02056570': 21, 'n02058221': 22, 'n02074367': 23, 'n02085620': 24, 'n02094433': 25, 'n02099601': 26, 'n02099712': 27, 'n02106662': 28, 'n02113799': 29, 'n02123045': 30, 'n02123394': 31, 'n02124075': 32, 'n02125311': 33, 'n02129165': 34, 'n02132136': 35, 'n02165456': 36, 'n02190166': 37, 'n02206856': 38, 'n02226429': 39, 'n02231487': 40, 'n02233338': 41, 'n02236044': 42, 'n02268443': 43, 'n02279972': 44, 'n02281406': 45, 'n02321529': 46, 'n02364673': 47, 'n02395406': 48, 'n02403003': 49, 'n02410509': 50, 'n02415577': 51, 'n02423022': 52, 'n02437312': 53, 'n02480495': 54, 'n02481823': 55, 'n02486410': 56, 'n02504458': 57, 'n02509815': 58, 'n02666196': 59, 'n02669723': 60, 'n02699494': 61, 'n02730930': 62, 'n02769748': 63, 'n02788148': 64, 'n02791270': 65, 'n02793495': 66, 'n02795169': 67, 'n02802426': 68, 'n02808440': 69, 'n02814533': 70, 'n02814860': 71, 'n02815834': 72, 'n02823428': 73, 'n02837789': 74, 'n02841315': 75, 'n02843684': 76, 'n02883205': 77, 'n02892201': 78, 'n02906734': 79, 'n02909870': 80, 'n02917067': 81, 'n02927161': 82, 'n02948072': 83, 'n02950826': 84, 'n02963159': 85, 'n02977058': 86, 'n02988304': 87, 'n02999410': 88, 'n03014705': 89, 'n03026506': 90, 'n03042490': 91, 'n03085013': 92, 'n03089624': 93, 'n03100240': 94, 'n03126707': 95, 'n03160309': 96, 'n03179701': 97, 'n03201208': 98, 'n03250847': 99, 'n03255030': 100, 'n03355925': 101, 'n03388043': 102, 'n03393912': 103, 'n03400231': 104, 'n03404251': 105, 'n03424325': 106, 'n03444034': 107, 'n03447447': 108, 'n03544143': 109, 'n03584254': 110, 'n03599486': 111, 'n03617480': 112, 'n03637318': 113, 'n03649909': 114, 'n03662601': 115, 'n03670208': 116, 'n03706229': 117, 'n03733131': 118, 'n03763968': 119, 'n03770439': 120, 'n03796401': 121, 'n03804744': 122, 'n03814639': 123, 'n03837869': 124, 'n03838899': 125, 'n03854065': 126, 'n03891332': 127, 'n03902125': 128, 'n03930313': 129, 'n03937543': 130, 'n03970156': 131, 'n03976657': 132, 'n03977966': 133, 'n03980874': 134, 'n03983396': 135, 'n03992509': 136, 'n04008634': 137, 'n04023962': 138, 'n04067472': 139, 'n04070727': 140, 'n04074963': 141, 'n04099969': 142, 'n04118538': 143, 'n04133789': 144, 'n04146614': 145, 'n04149813': 146, 'n04179913': 147, 'n04251144': 148, 'n04254777': 149, 'n04259630': 150, 'n04265275': 151, 'n04275548': 152, 'n04285008': 153, 'n04311004': 154, 'n04328186': 155, 'n04356056': 156, 'n04366367': 157, 'n04371430': 158, 'n04376876': 159, 'n04398044': 160, 'n04399382': 161, 'n04417672': 162, 'n04456115': 163, 'n04465501': 164, 'n04486054': 165, 'n04487081': 166, 'n04501370': 167, 'n04507155': 168, 'n04532106': 169, 'n04532670': 170, 'n04540053': 171, 'n04560804': 172, 'n04562935': 173, 'n04596742': 174, 'n04597913': 175, 'n06596364': 176, 'n07579787': 177, 'n07583066': 178, 'n07614500': 179, 'n07615774': 180, 'n07695742': 181, 'n07711569': 182, 'n07715103': 183, 'n07720875': 184, 'n07734744': 185, 'n07747607': 186, 'n07749582': 187, 'n07753592': 188, 'n07768694': 189, 'n07871810': 190, 'n07873807': 191, 'n07875152': 192, 'n07920052': 193, 'n09193705': 194, 'n09246464': 195, 'n09256479': 196, 'n09332890': 197, 'n09428293': 198, 'n12267677': 199}\n"
          ]
        }
      ],
      "source": [
        "#Print some data about the dataset\n",
        "print(data_path)\n",
        "class_labels , data = print_dataset_structure(data_path)\n",
        "labels_encoding = {label: i for i, label in enumerate(class_labels)}\n",
        "set_samples = {}\n",
        "\n",
        "for set_, lab, num in data:\n",
        "    if(set_ not in set_samples):\n",
        "        set_samples[set_] = {}\n",
        "        set_samples[set_] = (num, 1)\n",
        "    else:\n",
        "        set_samples[set_] = (set_samples[set_][0]+num, set_samples[set_][1]+1)\n",
        "\n",
        "mean_for_training = set_samples['train'][0]/set_samples['train'][1]\n",
        "mean_for_validation = set_samples['val'][0]/set_samples['val'][1]\n",
        "mean_for_test = set_samples['test'][0]/set_samples['test'][1]\n",
        "\n",
        "print(\"\\n\")\n",
        "print(\"Raw Data\")\n",
        "print(data)\n",
        "print(\"\\n\")\n",
        "print(\"Mean_for_training\")\n",
        "print(mean_for_training)\n",
        "print(\"Mean_for_validation\")\n",
        "print(mean_for_validation)\n",
        "print(\"Mean_for_test\")\n",
        "print(mean_for_test)\n",
        "print(\"\\n\")\n",
        "\n",
        "samples_by_set = {}\n",
        "\n",
        "c = 0\n",
        "for set_, lab, num in data:\n",
        "  if set_ == 'train':\n",
        "    if num != mean_for_training:\n",
        "      print(\"Train dimensions different for mean for class \"+lab)\n",
        "      c = 1\n",
        "  elif set_ == 'val':\n",
        "    if num != mean_for_validation:\n",
        "      print(\"Validation dimensions different for mean for class \"+lab)\n",
        "      c = 1\n",
        "  elif set_ == 'test':\n",
        "    if num != mean_for_test:\n",
        "      print(\"Test dimensions different for mean for class \"+lab)\n",
        "      c = 1\n",
        "\n",
        "if c == 0:\n",
        "  print(\"Class distributions identical\\n\")\n",
        "  samples_by_set = {'train': int(mean_for_training),\n",
        "                    'val': int(mean_for_validation),\n",
        "                    'test': int(mean_for_test)\n",
        "                    }\n",
        "\n",
        "\n",
        "print(\"All Class Labels\")\n",
        "print(class_labels)\n",
        "print(\"\\n\")\n",
        "print(\"Number of Class Labels\")\n",
        "print(len(class_labels))\n",
        "print(\"\\n\")\n",
        "print(\"Lables Encoding\")\n",
        "print(labels_encoding)"
      ]
    },
    {
      "cell_type": "markdown",
      "metadata": {
        "id": "EYs1H_ibiSju"
      },
      "source": [
        "##Transforms\n",
        "\n"
      ]
    },
    {
      "cell_type": "code",
      "execution_count": 31,
      "metadata": {
        "id": "TF9tXhwai_6N"
      },
      "outputs": [],
      "source": [
        "#Must apply the essentials transforms\n",
        "def DataTransform(image, label, size = (image_size, image_size)):\n",
        "\n",
        "  image_t=image\n",
        "  # Convert to tensor if needed\n",
        "  if not isinstance(image, torch.Tensor):\n",
        "    image_t = transforms.ToTensor()(image)\n",
        "\n",
        "  #encode label\n",
        "  label_t = labels_encoding[label]\n",
        "\n",
        "  #normalizzation\n",
        "  image_t = TF.normalize(\n",
        "            image_t,\n",
        "            mean=[0.485, 0.456, 0.406],\n",
        "            std=[0.229, 0.224, 0.225]\n",
        "        )\n",
        "  #resizing (?)\n",
        "\n",
        "  result = {'image': image_t, 'label': label_t}\n",
        "  return result\n",
        "\n"
      ]
    },
    {
      "cell_type": "code",
      "execution_count": 32,
      "metadata": {
        "id": "reyFjgLKJEgT"
      },
      "outputs": [],
      "source": [
        "def DataTransform_norm(image, size = (image_size, image_size)):\n",
        "\n",
        "\n",
        "  #normalizzation\n",
        "  image_norm = TF.normalize(\n",
        "            image,\n",
        "            mean=[0.485, 0.456, 0.406],\n",
        "            std=[0.229, 0.224, 0.225]\n",
        "        )\n",
        "\n",
        "\n",
        "\n",
        "  return image_norm\n"
      ]
    },
    {
      "cell_type": "code",
      "execution_count": 33,
      "metadata": {
        "id": "X_42p8yCddoh"
      },
      "outputs": [],
      "source": [
        "\n",
        "def denormalize(tensor, mean, std):\n",
        "    \"\"\"\n",
        "    tensor: torch.Tensor C×H×W normalized\n",
        "    mean, std: liste di lunghezza C\n",
        "    return: torch.Tensor C×H×W denormalized\n",
        "    \"\"\"\n",
        "    mean = torch.tensor(mean, dtype=tensor.dtype, device=tensor.device).view(-1,1,1)\n",
        "    std  = torch.tensor(std,  dtype=tensor.dtype, device=tensor.device).view(-1,1,1)\n",
        "    img = tensor * std + mean\n",
        "    return img.clamp(0, 1)"
      ]
    },
    {
      "cell_type": "markdown",
      "metadata": {
        "id": "GDm_Blflaee-"
      },
      "source": [
        "##Data Augmentation"
      ]
    },
    {
      "cell_type": "code",
      "execution_count": 34,
      "metadata": {
        "id": "-hoqoUa4aiNA"
      },
      "outputs": [],
      "source": [
        "def DataAugmentation(image, aug_prob = 0.50):\n",
        "  # 1. Random Horizontal Flip\n",
        "  if random.random() < aug_prob:\n",
        "      print(\"Random Horizontal Flip\")\n",
        "      image = TF.hflip(image)\n",
        "\n",
        "  # 2. Random Crop (with probability)\n",
        "  if random.random() < aug_prob:\n",
        "      print(\"Random Crop\")\n",
        "      # Get original dimensions\n",
        "      h, w = image.shape[1:3]\n",
        "\n",
        "      # Determine crop dimensions (between 80-100% of original dimensions)\n",
        "      new_h = int(h * random.uniform(0.8, 1.0))\n",
        "      new_w = int(w * random.uniform(0.8, 1.0))\n",
        "\n",
        "      # Determine crop position\n",
        "      top = random.randint(0, h - new_h)\n",
        "      left = random.randint(0, w - new_w)\n",
        "\n",
        "      # Apply crop\n",
        "      image = image[:, top:top + new_h, left:left + new_w]\n",
        "\n",
        "      # Resize back to original dimensions\n",
        "      image = TF.resize(image, [h, w],\n",
        "                                        interpolation=transforms.InterpolationMode.BILINEAR)\n",
        "\n",
        "  # 3. Random Rotation (small angles)\n",
        "  if random.random() < aug_prob:\n",
        "      print(\"Random Rotation\")\n",
        "      angle = random.uniform(-10, 10)  # Rotation of ±10 degrees\n",
        "      image = TF.rotate(image, angle,\n",
        "                                        interpolation=transforms.InterpolationMode.BILINEAR)\n",
        "\n",
        "\n",
        "  # 4. Random Color Jitter (only for RGB image)\n",
        "  if random.random() < aug_prob:\n",
        "      print(\"Random Color Jitter\")\n",
        "      color_jitter = transforms.ColorJitter(\n",
        "          brightness=0.2,\n",
        "          contrast=0.2,\n",
        "          saturation=0.2,\n",
        "          hue=0.1\n",
        "      )\n",
        "      image = color_jitter(image)\n",
        "\n",
        "\n",
        "\n",
        "  # 5. Random Gaussian Noise (only for RGB image)\n",
        "  if random.random() < aug_prob:\n",
        "      print(\"Random Gaussian Noise\")\n",
        "      noise = torch.randn_like(image) * 0.02  # Adjust standard deviation to control noise intensity\n",
        "      print(\"Clamping in augmentation between 0 and 1\")\n",
        "      image = torch.clamp(image + noise, 0.0, 1.0)  # Clamp values between 0 and 1\n",
        "\n",
        "  #if random.random()<aug_prob:\n",
        "  print(\"Random Erasing\")\n",
        "  transforms.RandomErasing()\n",
        "\n",
        "  return image"
      ]
    },
    {
      "cell_type": "code",
      "execution_count": null,
      "metadata": {
        "id": "Dwv7ugk5E9YP"
      },
      "outputs": [],
      "source": [
        "def get_augmentation_pipeline(image_size, aug_prob=0.5):\n",
        "    return transforms.Compose([\n",
        "        transforms.RandomHorizontalFlip(p=aug_prob),\n",
        "\n",
        "        # RandomResizedCrop mantiene proporzioni e sceglie crop quadrati\n",
        "        transforms.RandomResizedCrop(\n",
        "            size=image_size,\n",
        "            scale=(0.8, 1.0),\n",
        "            ratio=(1.0, 1.0),              # forza crop quadrato\n",
        "            interpolation=InterpolationMode.BILINEAR\n",
        "        ),\n",
        "\n",
        "        transforms.RandomRotation(\n",
        "            degrees=10,\n",
        "            interpolation=InterpolationMode.BILINEAR,\n",
        "            fill=0  # usa il mean normalizzato invece del nero\n",
        "        ),\n",
        "\n",
        "        transforms.ColorJitter(\n",
        "            brightness=0.1, contrast=0.1,\n",
        "            saturation=0.1,  hue=0.05\n",
        "        ),\n",
        "\n",
        "        # 5) Rumore gaussiano leggero con RandomApply\n",
        "        transforms.RandomApply([\n",
        "            transforms.Lambda(\n",
        "                lambda img: torch.clamp(img + torch.randn_like(img) * 0.05, 0.0, 1.0)\n",
        "            )\n",
        "        ], p=aug_prob),\n",
        "\n",
        "\n",
        "        transforms.RandomErasing(\n",
        "            p=aug_prob,\n",
        "            scale=(0.02, 0.15),\n",
        "            ratio=(0.3, 3.0),\n",
        "            value=0\n",
        "        )\n",
        "    ])\n",
        "\n",
        "\n",
        "def get_augmentation_pipeline_2(image_size, aug_prob=0.5):\n",
        "    return transforms.Compose([\n",
        "        transforms.ToPILImage(),                              # passo a PIL per le jitter/rotate\n",
        "        transforms.RandomHorizontalFlip(p=aug_prob),\n",
        "        transforms.RandomResizedCrop(\n",
        "            image_size, scale=(0.8,1.0), ratio=(1.0,1.0),\n",
        "            interpolation=InterpolationMode.BILINEAR\n",
        "        ),\n",
        "        transforms.RandomRotation(10, fill=0),\n",
        "        transforms.ColorJitter(0.1,0.1,0.1,0.05),\n",
        "\n",
        "        transforms.RandomApply([                                  # rumore leggero\n",
        "            transforms.Lambda(\n",
        "                lambda img: torch.clamp(\n",
        "                    #transforms.ToTensor()(img) + torch.randn_like(transforms.ToTensor()(img))*0.05,\n",
        "                    img + torch.randn_like(transforms.ToTensor()(img))*0.05,\n",
        "                    0.0, 1.0\n",
        "                )\n",
        "            )\n",
        "        ], p=aug_prob),\n",
        "\n",
        "        transforms.ToTensor(),                                 # torna a tensor [0,1]\n",
        "        transforms.RandomErasing(\n",
        "            p=aug_prob, scale=(0.02,0.15), ratio=(0.3,3.0),\n",
        "            value=0\n",
        "        ),\n",
        "    ])"
      ]
    },
    {
      "cell_type": "markdown",
      "metadata": {
        "id": "JNaSXm32j8a6"
      },
      "source": [
        "##Dataset Loader\n"
      ]
    },
    {
      "cell_type": "code",
      "execution_count": 35,
      "metadata": {
        "id": "a20dqGCDLvwo"
      },
      "outputs": [],
      "source": [
        "def make_transform(image_size: int, augment: bool = False, aug_prob: float = 0.5):\n",
        "    \"\"\"\n",
        "    Restituisce un unico Compose che, se augment==True, applica:\n",
        "      - flip, crop, rotate, jitter su PIL,\n",
        "      - ToTensor(),\n",
        "      - rumore gaussiano leggero,\n",
        "      - erasing,\n",
        "      - Normalize\n",
        "\n",
        "    Se augment==False, fa solo Resize/CenterCrop, ToTensor e Normalize.\n",
        "    \"\"\"\n",
        "    # Mean e std usati per la normalizzazione\n",
        "    MEAN = [0.485, 0.456, 0.406]\n",
        "    STD  = [0.229, 0.224, 0.225]\n",
        "\n",
        "    # 1) Fasi PIL-only\n",
        "    pil_transforms = []\n",
        "    if augment:\n",
        "        pil_transforms += [\n",
        "            transforms.RandomHorizontalFlip(p=aug_prob),\n",
        "            transforms.RandomResizedCrop(\n",
        "                size=image_size,\n",
        "                scale=(0.8, 1.0),\n",
        "                ratio=(1.0, 1.0),\n",
        "                interpolation=InterpolationMode.BILINEAR\n",
        "            ),\n",
        "            transforms.RandomRotation(\n",
        "                degrees=10,\n",
        "                interpolation=InterpolationMode.BILINEAR,\n",
        "                fill=0\n",
        "            ),\n",
        "            transforms.ColorJitter(\n",
        "                brightness=0.1,\n",
        "                contrast=0.1,\n",
        "                saturation=0.1,\n",
        "                hue=0.05\n",
        "            ),\n",
        "        ]\n",
        "    else:\n",
        "        pil_transforms += [\n",
        "            transforms.Resize(image_size, interpolation=InterpolationMode.BILINEAR),\n",
        "            transforms.CenterCrop(image_size),\n",
        "        ]\n",
        "\n",
        "    # 2) Fasi Tensor-only\n",
        "    tensor_transforms = [\n",
        "        transforms.ToTensor(),  # ora PIL → Tensor [0,1]\n",
        "    ]\n",
        "    if augment:\n",
        "        tensor_transforms += [\n",
        "            # gaussiano leggero\n",
        "            transforms.Lambda(\n",
        "                lambda t: torch.clamp(t + torch.randn_like(t) * 0.05, 0.0, 1.0)\n",
        "            ),\n",
        "            # erasing\n",
        "            transforms.RandomErasing(\n",
        "                p=aug_prob,\n",
        "                scale=(0.02, 0.15),\n",
        "                ratio=(0.3, 3.0),\n",
        "                value=0\n",
        "            ),\n",
        "        ]\n",
        "\n",
        "    # 3) Normalizzazione finale (sempre)\n",
        "    tensor_transforms += [\n",
        "        transforms.Normalize(mean=MEAN, std=STD)\n",
        "    ]\n",
        "\n",
        "    # Metti tutto in un solo Compose\n",
        "    return transforms.Compose(pil_transforms + tensor_transforms)"
      ]
    },
    {
      "cell_type": "code",
      "execution_count": 36,
      "metadata": {
        "id": "aKlmLgONkAeZ"
      },
      "outputs": [],
      "source": [
        "class DatasetLoader(Dataset):\n",
        "    def __init__(self, root_dir, mode, transform_size = (image_size, image_size), augmentation = False):\n",
        "        self.root_dir = root_dir\n",
        "        self.mode = mode\n",
        "        self.transform_size = transform_size\n",
        "        self.augmentation = augmentation and mode == 'train'\n",
        "        self.samples = [] #flatten the dataset\n",
        "\n",
        "        if self.mode == 'train':\n",
        "            self.data_path = os.path.join(self.root_dir, 'train')\n",
        "        elif self.mode == 'test':\n",
        "            self.data_path = os.path.join(self.root_dir, 'test')\n",
        "        elif self.mode == 'val':\n",
        "            self.data_path = os.path.join(self.root_dir, 'val')\n",
        "        else:\n",
        "          raise ValueError(\"Invalid mode\")\n",
        "\n",
        "        self.labels = sorted([d for d in os.listdir(self.data_path)])\n",
        "\n",
        "        for label_idx, label in enumerate(self.labels):\n",
        "            label_dir = os.path.join(self.data_path, label)\n",
        "            image_files = sorted(os.listdir(label_dir))\n",
        "            for img_file in image_files:\n",
        "                if(img_file != label + \"_boxes.txt\"):\n",
        "                  img_path = os.path.join(label_dir, img_file)\n",
        "                  self.samples.append(( label, img_path))\n",
        "\n",
        "    def __len__(self):\n",
        "        return len(self.samples)\n",
        "\n",
        "    def __getitem__(self, idx):\n",
        "        label_name, img_path = self.samples[idx]\n",
        "        #print(\"im in getitem\")\n",
        "        #print(label_name)\n",
        "        #print(img_path)\n",
        "\n",
        "        try:\n",
        "            image = Image.open(img_path).convert('RGB')\n",
        "        except Exception as e:\n",
        "            print(f\"Error loading image\")\n",
        "            raise e\n",
        "\n",
        "        #trans = DataTransform(image, label_name, self.transform_size)\n",
        "        # Convert to tensor if needed\n",
        "        #if not isinstance(image, torch.Tensor):\n",
        "        #  image = transforms.ToTensor()(image)\n",
        "\n",
        "        #encode label\n",
        "        label = labels_encoding[label_name]\n",
        "\n",
        "        composition=None\n",
        "        if(self.augmentation):\n",
        "          composition=make_transform(image_size=64, augment=True, aug_prob=0.5)\n",
        "          image = composition(image)\n",
        "        else:\n",
        "          composition=make_transform(image_size=64, augment=False, aug_prob=0.5)\n",
        "          image = composition(image)\n",
        "\n",
        "        return {'image': image, 'label': label}\n",
        "\n",
        "\n",
        "    def getitem(self, chosen_label, idx):\n",
        "        if(chosen_label not in self.labels):\n",
        "            print(\"Invalid label for \"+self.mode)\n",
        "            return None\n",
        "\n",
        "        sample_path = os.path.join(self.data_path, chosen_label)\n",
        "\n",
        "        image_files = sorted([\n",
        "                    f for f in os.listdir(sample_path)\n",
        "                ])\n",
        "\n",
        "        sample_number = len(image_files)\n",
        "\n",
        "        if(idx > sample_number):\n",
        "          print(\"Invalid index for \"+chosen_label+\" in \"+self.mode)\n",
        "\n",
        "        image_idx = image_files[idx]\n",
        "        #print(image_idx)\n",
        "        try:\n",
        "            image = Image.open(os.path.join(sample_path, image_idx)).convert('RGB')\n",
        "        except Exception as e:\n",
        "            print(f\"Error loading image\")\n",
        "            raise e\n",
        "        #print(image)\n",
        "\n",
        "        #trans = DataTransform(image, chosen_label, self.transform_size)\n",
        "        #image = trans['image']\n",
        "        #label = trans['label']\n",
        "        # Convert to tensor if needed\n",
        "        #if not isinstance(image, torch.Tensor):\n",
        "        #  image = transforms.ToTensor()(image)\n",
        "\n",
        "        #encode label\n",
        "        label = labels_encoding[chosen_label]\n",
        "\n",
        "        composition=None\n",
        "        if(self.augmentation):\n",
        "          composition=make_transform(image_size=64, augment=True, aug_prob=0.5)\n",
        "          image = composition(image)\n",
        "        else:\n",
        "          composition=make_transform(image_size=64, augment=False, aug_prob=0.5)\n",
        "          image = composition(image)\n",
        "\n",
        "\n",
        "\n",
        "        return {'image': image, 'label': label}"
      ]
    },
    {
      "cell_type": "markdown",
      "metadata": {
        "id": "-BwAK1-dzt3K"
      },
      "source": [
        "##Show Sample"
      ]
    },
    {
      "cell_type": "code",
      "execution_count": 37,
      "metadata": {
        "id": "EFbmLuEbzy1J"
      },
      "outputs": [],
      "source": [
        "'''\n",
        "def show_sample_1(dataset, label_1, idx_1, label_2, idx_2):\n",
        "    sample_1 = dataset.getitem(label_1, idx_1)\n",
        "    image_1 = sample_1['image']\n",
        "    image_1 = denormalize(image_1, MEAN, STD)\n",
        "    label_1 = sample_1['label']\n",
        "    image_1 = image_1.permute(1, 2, 0).numpy()\n",
        "\n",
        "    sample_2 = dataset.getitem(label_2, idx_2)\n",
        "    image_2 = sample_2['image']\n",
        "    image_2= denormalize(image_2, MEAN, STD)\n",
        "    label_2 = sample_2['label']\n",
        "    image_2 = image_2.permute(1, 2, 0).numpy()\n",
        "\n",
        "    fig, axs = plt.subplots(1, 2, figsize=(10, 5))\n",
        "\n",
        "    # First image\n",
        "    axs[0].imshow(image_1)\n",
        "    #axs[0].set_title(f\"Label: {label_1}\")\n",
        "    axs[0].set_title(f\"Pietro\")\n",
        "    axs[0].set_xlabel('Width (pixels)')\n",
        "    axs[0].set_ylabel('Height (pixels)')\n",
        "    axs[0].grid(False)\n",
        "\n",
        "    # Second image\n",
        "    axs[1].imshow(image_2)\n",
        "    #axs[1].set_title(f\"Label: {label_2}\")\n",
        "    axs[1].set_title(f\"Cami\")\n",
        "    axs[1].set_xlabel('Width (pixels)')\n",
        "    axs[1].set_ylabel('Height (pixels)')\n",
        "    axs[1].grid(False)\n",
        "\n",
        "    plt.show()\n",
        "\n",
        "'''\n",
        "\n",
        "def show_sample_2(dataset, mode, label_1, idx_1, label_2, idx_2,aug:bool,denormalizing=False):\n",
        "    label_dec_1 = labels_encoding[label_1]\n",
        "    label_dec_2 = labels_encoding[label_2]\n",
        "\n",
        "    mul = 0\n",
        "\n",
        "    if(mode == 'train'):\n",
        "        mul = samples_by_set['train']\n",
        "    elif(mode == 'val'):\n",
        "        mul = samples_by_set['val']\n",
        "    elif(mode == 'test'):\n",
        "        mul = samples_by_set['test']\n",
        "    else:\n",
        "        print(\"Invalid mode\")\n",
        "        return\n",
        "\n",
        "    sample_idx_1 = label_dec_1*mul+idx_1\n",
        "    sample_idx_2 = label_dec_2*mul+idx_2\n",
        "\n",
        "    sample_1 = dataset.__getitem__(sample_idx_1)\n",
        "    image_1 = sample_1['image']\n",
        "\n",
        "\n",
        "    sample_2 = dataset.__getitem__(sample_idx_2)\n",
        "    image_2 = sample_2['image']\n",
        "\n",
        "    if(denormalizing):\n",
        "      image_1 = denormalize(image_1, MEAN, STD)\n",
        "      image_2= denormalize(image_2, MEAN, STD)\n",
        "\n",
        "\n",
        "    label_1 = sample_1['label']\n",
        "    image_1 = image_1.permute(1, 2, 0).numpy()\n",
        "    label_2 = sample_2['label']\n",
        "    image_2 = image_2.permute(1, 2, 0).numpy()\n",
        "\n",
        "    fig, axs = plt.subplots(1, 2, figsize=(10, 5))\n",
        "\n",
        "    # First image\n",
        "    axs[0].imshow(image_1)\n",
        "    #axs[0].set_title(f\"Label: {label_1}\")\n",
        "    axs[0].set_title(f\"Pietro-label{label_1}\")\n",
        "    axs[0].set_xlabel('Width (pixels)')\n",
        "    axs[0].set_ylabel('Height (pixels)')\n",
        "    axs[0].grid(False)\n",
        "\n",
        "    # Second image\n",
        "    axs[1].imshow(image_2)\n",
        "    #axs[1].set_title(f\"Label: {label_2}\")\n",
        "    axs[1].set_title(f\"Cami-label{label_2}\")\n",
        "    axs[1].set_xlabel('Width (pixels)')\n",
        "    axs[1].set_ylabel('Height (pixels)')\n",
        "    axs[1].grid(False)\n",
        "\n",
        "    # Titolo generale\n",
        "    if(aug):\n",
        "      fig.suptitle(\"With augmentation\", fontsize=12, fontweight='bold')\n",
        "    else:\n",
        "      fig.suptitle(\"Without augmentation\", fontsize=12, fontweight='bold')\n",
        "\n",
        "    # Per non sovrapporre il supertitle ai subplot\n",
        "    fig.tight_layout(rect=(0.0, 0.0, 1.0, 0.95))\n",
        "\n",
        "    plt.show()\n",
        "\n"
      ]
    },
    {
      "cell_type": "markdown",
      "metadata": {
        "id": "uxQX2ja6kiiB"
      },
      "source": [
        "Let's visualize a pic :D\n"
      ]
    },
    {
      "cell_type": "code",
      "execution_count": 38,
      "metadata": {
        "colab": {
          "base_uri": "https://localhost:8080/",
          "height": 1000
        },
        "id": "wJNHEcjvkhVI",
        "outputId": "622e29fe-a309-4c07-cf48-adc144abdaec"
      },
      "outputs": [
        {
          "output_type": "display_data",
          "data": {
            "text/plain": [
              "<Figure size 1000x500 with 2 Axes>"
            ],
            "image/png": "[encoded data removed]"
          },
          "metadata": {}
        },
        {
          "output_type": "display_data",
          "data": {
            "text/plain": [
              "<Figure size 1000x500 with 2 Axes>"
            ],
            "image/png": "[encoded data removed]"
          },
          "metadata": {}
        }
      ],
      "source": [
        "mode = 'train'\n",
        "datset_1 = DatasetLoader(data_path, mode, augmentation=False)\n",
        "datset_2 = DatasetLoader(data_path, mode, augmentation=True)\n",
        "#show_sample_1(datset_1, 'n01644900', 0, 'n01443537', 0)\n",
        "show_sample_2(datset_1, mode, 'n01882714', 44, 'n01443537', 0,aug=True,denormalizing=True)\n",
        "show_sample_2(datset_2, mode, 'n01882714', 44, 'n01443537', 0,aug=False,denormalizing=True)"
      ]
    },
    {
      "cell_type": "markdown",
      "metadata": {
        "id": "ETsYuzUcZqV5"
      },
      "source": [
        "#Network Functions\n"
      ]
    },
    {
      "cell_type": "markdown",
      "metadata": {
        "id": "VpxPAe3wq-ev"
      },
      "source": [
        "##Test Sasso"
      ]
    },
    {
      "cell_type": "code",
      "execution_count": 21,
      "metadata": {
        "id": "rZ71480Dc3_Q"
      },
      "outputs": [],
      "source": [
        "class PatchEmbedding(nn.Module):\n",
        "  def __init__(self,\n",
        "               img_size,\n",
        "               patch_size,\n",
        "               channels,\n",
        "               latent_size):\n",
        "    super().__init__()\n",
        "    #self.img_size = img_size\n",
        "    self.patch_size = patch_size\n",
        "    #self.channels = channels\n",
        "    #self.latent_size = latent_size\n",
        "    self.proj = nn.Conv2d(in_channels= channels,\n",
        "                          out_channels= latent_size,\n",
        "                          kernel_size= patch_size,\n",
        "                          stride= patch_size)\n",
        "\n",
        "    self.num_patches = (img_size // patch_size)**2\n",
        "\n",
        "    self.cls_token = nn.Parameter(torch.randn(1, 1, latent_size)) #classification token to train\n",
        "    self.pos_embed = nn.Parameter(torch.randn(1, (1+ self.num_patches), latent_size)) #positional embedding within image\n",
        "\n",
        "  def forward(self, x: torch.Tensor):\n",
        "    B = x.size(0)\n",
        "    x = self.proj(x) #(B, E, H/P, W/P)\n",
        "    x = x.flatten(2).transpose(1, 2) #(B, N, E)\n",
        "    cls_token = self.cls_token.expand(B, -1, -1)\n",
        "    x = torch.cat((cls_token,x), dim=1)\n",
        "    x = x + self.pos_embed\n",
        "    return x"
      ]
    },
    {
      "cell_type": "code",
      "execution_count": 22,
      "metadata": {
        "id": "_A_aSraxgW7A"
      },
      "outputs": [],
      "source": [
        "class MLP(nn.Module):\n",
        "  def __init__(self,\n",
        "               in_features,\n",
        "               hidden_features,\n",
        "               drop_rate):\n",
        "    super().__init__()\n",
        "    self.fc1 = nn.Linear(in_features= in_features,\n",
        "                         out_features= hidden_features)\n",
        "    self.fc2 = nn.Linear(in_features= hidden_features,\n",
        "                         out_features= in_features)\n",
        "    self.Dropout = nn.Dropout(p= drop_rate)\n",
        "\n",
        "    self.ReLU = nn.ReLU()\n",
        "\n",
        "  def forward(self, x):\n",
        "    x = self.fc1(x)\n",
        "    x = F.gelu(x)\n",
        "    #x = self.ReLU(x)\n",
        "    x = self.Dropout(x)\n",
        "    x = self.fc2(x)\n",
        "    x = self.Dropout(x)\n",
        "    return x"
      ]
    },
    {
      "cell_type": "code",
      "execution_count": 23,
      "metadata": {
        "id": "ELhhCK8g5OWU"
      },
      "outputs": [],
      "source": [
        "class DropPath(nn.Module):\n",
        "    def __init__(self, drop_prob=0):\n",
        "        super().__init__()\n",
        "        self.drop_prob = drop_prob\n",
        "\n",
        "    def forward(self, x):\n",
        "        if self.drop_prob == 0 or not self.training:\n",
        "            return x\n",
        "        keep_prob = 1 - self.drop_prob\n",
        "        shape = (x.shape[0],) + (1,) * (x.ndim - 1)  # broadcast over batch\n",
        "        random_tensor = keep_prob + torch.rand(shape, dtype=x.dtype, device=x.device)\n",
        "        binary_tensor = torch.floor(random_tensor)\n",
        "        return x / keep_prob * binary_tensor"
      ]
    },
    {
      "cell_type": "code",
      "execution_count": 24,
      "metadata": {
        "id": "6SWzEBoUiQVX"
      },
      "outputs": [],
      "source": [
        "class TransformerEncoder(nn.Module):\n",
        "  def __init__(self,\n",
        "               latent_size,\n",
        "               num_heads,\n",
        "               mlp_dim,\n",
        "               dropout,\n",
        "               drop_rate):\n",
        "    super().__init__()\n",
        "    self.norm1 = nn.LayerNorm(latent_size)\n",
        "    self.attn = nn.MultiheadAttention(latent_size, num_heads, dropout= dropout, batch_first= True)\n",
        "    #self.drop_path1 = DropPath(drop_rate)\n",
        "    self.norm2 = nn.LayerNorm(latent_size)\n",
        "    self.mlp = MLP(latent_size, mlp_dim, dropout)\n",
        "    #self.drop_path2 = DropPath(drop_rate)\n",
        "\n",
        "  def forward(self, x):\n",
        "    #x = x + self.drop_path1(self.attn(self.norm1(x), self.norm1(x), self.norm1(x))[0])\n",
        "    x = x + self.attn(self.norm1(x), self.norm1(x), self.norm1(x))[0]\n",
        "    #x = x + self.drop_path2(self.mlp(self.norm2(x)))\n",
        "    x = x + self.mlp(self.norm2(x))\n",
        "    return x"
      ]
    },
    {
      "cell_type": "code",
      "execution_count": 25,
      "metadata": {
        "id": "riC19Y4Hjhne"
      },
      "outputs": [],
      "source": [
        "class VisionTransformer(nn.Module):\n",
        "  def __init__(self,\n",
        "               img_size,\n",
        "               batch_size,\n",
        "               channels,\n",
        "               num_classes,\n",
        "               latent_size,\n",
        "               encoders,\n",
        "               num_heads,\n",
        "               mlp_dim,\n",
        "               dropout,\n",
        "               drop_rate):\n",
        "    super().__init__()\n",
        "    self.patch_embed = PatchEmbedding(img_size,\n",
        "                                      patch_size,\n",
        "                                      channels,\n",
        "                                      latent_size)\n",
        "    self.encoder = nn.Sequential(*[\n",
        "        TransformerEncoder(latent_size, num_heads, mlp_dim, dropout, drop_rate)\n",
        "        for _ in range(encoders)\n",
        "        ])\n",
        "    self.norm = nn.LayerNorm(latent_size)\n",
        "    self.head = nn.Linear(latent_size, num_classes)\n",
        "\n",
        "  def forward(self, x):\n",
        "    x = self.patch_embed(x)\n",
        "    x = self.encoder(x)\n",
        "    x = self.norm(x)\n",
        "    cls_token = x[:, 0]\n",
        "    x = self.head(cls_token)\n",
        "    return x"
      ]
    },
    {
      "cell_type": "markdown",
      "metadata": {
        "id": "rwi-y45-kMW6"
      },
      "source": [
        "##Input Embedding"
      ]
    },
    {
      "cell_type": "code",
      "execution_count": null,
      "metadata": {
        "id": "DVHGNPtzn9ay"
      },
      "outputs": [],
      "source": [
        "class InputEmbedding(nn.Module):\n",
        "    def __init__(self, patch_size=patch_size, n_channels=n_channels, latent_size=latent_size,\n",
        "                batch_size=batch_size, device=device):\n",
        "        super(InputEmbedding, self).__init__()\n",
        "        self.patch_size = patch_size\n",
        "        self.n_channels = n_channels\n",
        "        self.latent_size = latent_size\n",
        "        self.batch_size = batch_size\n",
        "        self.device = device\n",
        "\n",
        "        self.input_size = self.patch_size*self.patch_size*self.n_channels\n",
        "        self.LinearProjection = nn.Linear(self.input_size, self.latent_size) #Linear projection\n",
        "        #self.class_token = nn.Parameter(torch.randn(self.batch_size, 1, self.latent_size)).to(self.device) #Class token\n",
        "        #self.positional_embedding = nn.Parameter(torch.randn(self.batch_size, 1, self.latent_size)).to(self.device) #Positional embedding\n",
        "        self.class_token = nn.Parameter(torch.randn(1, 1, self.latent_size))\n",
        "        self.positional_embedding = nn.Parameter(torch.randn(1, 4, self.latent_size))\n",
        "\n",
        "\n",
        "    def forward(self, input):\n",
        "        input = input.to(self.device)\n",
        "\n",
        "        patches = einops.rearrange(\n",
        "            input,\n",
        "            #b=batch size, c=channels, h\\w=number of patches on vertical\\horizzontal axis, p1\\p2=patch dimensions ---> (h p1)=h*p1 = height of the image\n",
        "            'b c (h p1) (w p2) -> b (h w) (p1 p2 c)',\n",
        "            p1=self.patch_size, p2=self.patch_size\n",
        "            )\n",
        "\n",
        "        #print(input.size())\n",
        "        #print(patches.size())\n",
        "\n",
        "        LinearProjection = self.LinearProjection(patches).to(self.device)\n",
        "        batch, n_patches, _ = LinearProjection.shape\n",
        "        class_token = self.class_token.expand(batch_size, -1, -1)  # share across batch\n",
        "        LinearProjection = torch.cat((self.class_token, LinearProjection), dim=1)\n",
        "\n",
        "        #controllare erpché tutti i token di ogni immagine hanno la stessa positional embedding!\n",
        "        positional_embedding = einops.repeat(\n",
        "            self.positional_embedding,\n",
        "            'b 1 d -> b m d',\n",
        "            m=n_patches+1\n",
        "            )\n",
        "\n",
        "        #print(LinearProjection.size())\n",
        "        #print(positional_embedding.size())\n",
        "\n",
        "        LinearProjection += positional_embedding\n",
        "        return LinearProjection"
      ]
    },
    {
      "cell_type": "markdown",
      "metadata": {
        "id": "YpTUixdaX1Nk"
      },
      "source": [
        "##Encoder"
      ]
    },
    {
      "cell_type": "code",
      "execution_count": null,
      "metadata": {
        "id": "tManjtTzX28D"
      },
      "outputs": [],
      "source": [
        "class Encoder(nn.Module):\n",
        "    def __init__(self, latent_size=latent_size, n_heads=n_heads, dropout=dropout, device = device):\n",
        "        super(Encoder, self).__init__()\n",
        "        self.latent_size = latent_size\n",
        "        self.n_heads = n_heads\n",
        "        self.dropout = dropout\n",
        "        self.device = device\n",
        "\n",
        "        #norm layer\n",
        "        self.norm_1 = nn.LayerNorm(self.latent_size)\n",
        "        self.norm_2 = nn.LayerNorm(self.latent_size)\n",
        "\n",
        "        #multihead atention\n",
        "        self.multihead_attention = nn.MultiheadAttention(self.latent_size, self.n_heads, dropout=self.dropout)\n",
        "\n",
        "        #add input\n",
        "        #norm\n",
        "        #MLP\n",
        "        self.MLP = nn.Sequential(\n",
        "            nn.Linear(self.latent_size, self.latent_size*4),\n",
        "            nn.GELU(),\n",
        "            nn.Dropout(self.dropout),\n",
        "            nn.Linear(self.latent_size*4, self.latent_size),\n",
        "            nn.Dropout(self.dropout)\n",
        "        )\n",
        "\n",
        "    def forward(self, embedded_patches):\n",
        "        first_norm_out = self.norm_1(embedded_patches)\n",
        "        attention_out = self.multihead_attention(first_norm_out, first_norm_out, first_norm_out)[0]\n",
        "\n",
        "        first_add = attention_out + embedded_patches\n",
        "\n",
        "        second_norm_out = self.norm_2(first_add)\n",
        "        MLP_out = self.MLP(second_norm_out)\n",
        "\n",
        "        out = MLP_out + first_add\n",
        "\n",
        "        #print('embed: ', embedded_patches.size())\n",
        "        #print('output', out.size())\n",
        "\n",
        "        return out\n"
      ]
    },
    {
      "cell_type": "markdown",
      "metadata": {
        "id": "7MpsVRm3cb5h"
      },
      "source": [
        "##Transformer"
      ]
    },
    {
      "cell_type": "markdown",
      "metadata": {
        "id": "rQc4anC3fZHs"
      },
      "source": [
        "(put everything together)"
      ]
    },
    {
      "cell_type": "code",
      "execution_count": null,
      "metadata": {
        "id": "RWtzx0svclOt"
      },
      "outputs": [],
      "source": [
        "class Vit(nn.Module):\n",
        "    def __init__(self, n_encoders=n_encoders, latent_size=latent_size, n_classes=n_classes, dropout = dropout, device=device):\n",
        "        super(Vit, self).__init__()\n",
        "        self.n_encoders = n_encoders\n",
        "        self.latent_size = latent_size\n",
        "        self.n_classes = n_classes\n",
        "        self.dropout = dropout\n",
        "        self.device = device\n",
        "\n",
        "        self.Embedding = InputEmbedding()\n",
        "\n",
        "        self.EncoderStack = nn.ModuleList([Encoder() for i in range(self.n_encoders)])\n",
        "\n",
        "        self.MLPHead = nn.Sequential(\n",
        "            nn.LayerNorm(self.latent_size),\n",
        "            nn.Linear(self.latent_size, self.latent_size),\n",
        "            nn.Linear(self.latent_size, self.n_classes)\n",
        "        )\n",
        "\n",
        "    def forward(self, input):\n",
        "        encoder_out = self.Embedding(input)\n",
        "\n",
        "        for enc in self.EncoderStack:\n",
        "            encoder_out = enc(encoder_out)\n",
        "\n",
        "        cls_token = encoder_out[:, 0]\n",
        "        MLPHead_out = self.MLPHead(cls_token)\n",
        "\n",
        "        return MLPHead_out\n",
        "\n"
      ]
    },
    {
      "cell_type": "markdown",
      "metadata": {
        "id": "FL7XR9Yfatjo"
      },
      "source": [
        "##Test block"
      ]
    },
    {
      "cell_type": "code",
      "execution_count": null,
      "metadata": {
        "id": "x1KzMlDFrneJ"
      },
      "outputs": [],
      "source": [
        "#test_input = torch.randn(1,3,64,64)\n",
        "#test_class = InputEmbedding(batch_size=1).to(device)\n",
        "#test_class(test_input)\n",
        "#test_encoder = Encoder().to(device)\n",
        "#test_encoder(test_class(test_input))"
      ]
    },
    {
      "cell_type": "markdown",
      "metadata": {
        "id": "4SDE8SrToyLZ"
      },
      "source": [
        "#Pre-training\n"
      ]
    },
    {
      "cell_type": "markdown",
      "metadata": {
        "id": "yA5O96Bjo1RA"
      },
      "source": [
        "Create tuttecose"
      ]
    },
    {
      "cell_type": "code",
      "execution_count": 26,
      "metadata": {
        "id": "gny9uPdgpdBO"
      },
      "outputs": [],
      "source": [
        "#Transformer hyperparameters\n",
        "#patch_size = 16\n",
        "#latent_size = 768\n",
        "#n_channels = 3\n",
        "#n_heads = 12\n",
        "#n_encoders = 12\n",
        "#dropout = 0.1\n",
        "#n_classes = 200 #According to tinyimagenet\n",
        "#image_size = 64 #According to tinyimagenet\n",
        "\n",
        "#Training\n",
        "#epochs = 10\n",
        "#batch_size = 4\n",
        "#threshold = 10e-3\n",
        "#weight_decay = 0.03\n",
        "MLP_DIM = 512"
      ]
    },
    {
      "cell_type": "code",
      "execution_count": 39,
      "metadata": {
        "id": "fS6NQXI-o3oG"
      },
      "outputs": [],
      "source": [
        "temp_batch_size = 1024\n",
        "\n",
        "train_dataset = DatasetLoader(data_path, 'train', augmentation=True)\n",
        "validation_dataset = DatasetLoader(data_path, 'val', augmentation=False)\n",
        "test_dataset = DatasetLoader(data_path, 'test', augmentation=False)\n",
        "\n",
        "train_loader = DataLoader(train_dataset, batch_size=temp_batch_size, shuffle=True)\n",
        "validation_loader = DataLoader(validation_dataset, batch_size=temp_batch_size, shuffle=True)\n",
        "test_loader = DataLoader(test_dataset, batch_size=temp_batch_size, shuffle=True)\n",
        "\n"
      ]
    },
    {
      "cell_type": "code",
      "execution_count": 40,
      "metadata": {
        "id": "NBqPsXe_3_3T"
      },
      "outputs": [],
      "source": [
        "def apply_stochastic_depth(model, drop_prob):\n",
        "    for module in model.modules():\n",
        "        if isinstance(module, DropPath):\n",
        "            module.drop_prob = drop_prob\n",
        "\n"
      ]
    },
    {
      "cell_type": "markdown",
      "metadata": {
        "id": "ta04qPMuThae"
      },
      "source": [
        "#Training Phase\n"
      ]
    },
    {
      "cell_type": "markdown",
      "metadata": {
        "id": "0fh_o2VPxkoR"
      },
      "source": [
        "##Initializzation"
      ]
    },
    {
      "cell_type": "code",
      "execution_count": 43,
      "metadata": {
        "id": "5GThT__QxOae"
      },
      "outputs": [],
      "source": [
        "#model = Vit(n_encoders=n_encoders, latent_size=latent_size, n_classes=n_classes, dropout = dropout, device=device)\n",
        "\n",
        "\n",
        "##--------- modello nuovo di prova\n",
        "model_test = VisionTransformer(image_size,\n",
        "                               temp_batch_size,\n",
        "                               n_channels,\n",
        "                               n_classes,\n",
        "                               latent_size,\n",
        "                               n_encoders,\n",
        "                               n_heads,\n",
        "                               MLP_DIM,\n",
        "                               dropout,\n",
        "                               0.1).to(device)\n",
        "\n",
        "apply_stochastic_depth(model_test, drop_prob=0.1)\n",
        "loss_val = nn.CrossEntropyLoss()\n",
        "loss_train = SoftTargetCrossEntropy()\n",
        "#loss_train = nn.CrossEntropyLoss(label_smoothing=label_smoothing)\n",
        "num_epochs=2\n",
        "\n",
        "\n",
        "##aggiornato con model_test\n",
        "'''\n",
        "optimizer = torch.optim.Adam(model_test.parameters(), lr=learning_rate)\n",
        "optimizer = optim.SGD(\n",
        "    filter(lambda p: p.requires_grad, model_test.parameters()),\n",
        "    lr=learning_rate,\n",
        "    momentum=0.9,\n",
        "    weight_decay=weight_decay\n",
        ")\n",
        "'''\n",
        "optimizer = torch.optim.AdamW(\n",
        "    model_test.parameters(),\n",
        "    lr=learning_rate,\n",
        "    weight_decay=weight_decay,\n",
        "    betas=(0.9, 0.999)\n",
        ")\n",
        "\n",
        "mixup_fn = Mixup(\n",
        "    #mixup_alpha=0.8,\n",
        "    mixup_alpha=0.2,\n",
        "    cutmix_alpha=1.0,\n",
        "    cutmix_minmax=None,\n",
        "    #prob=0.5,\n",
        "    prob=0.2,\n",
        "    #switch_prob=0.5,\n",
        "    switch_prob=0.,\n",
        "    label_smoothing=0.1,\n",
        "    num_classes=n_classes\n",
        ")\n",
        "warmup = LinearLR(optimizer, start_factor=1e-3, total_iters=5)\n",
        "cosine = CosineAnnealingLR(optimizer, T_max=num_epochs - 5)\n",
        "#scheduler = CosineAnnealingLR(optimizer, T_max=num_epochs)\n",
        "scheduler = SequentialLR(optimizer, [warmup, cosine], milestones=[5])\n",
        "scaler = torch.amp.GradScaler(device=\"cuda\")"
      ]
    },
    {
      "cell_type": "code",
      "execution_count": null,
      "metadata": {
        "id": "KGrI6VSJF-tD"
      },
      "outputs": [],
      "source": [
        "#model_test.load_state_dict(torch.load(\"/home/user/work/Saved_Models/\"))\n",
        "#scheduler = SequentialLR(optimizer, [cosine], milestones=[5])"
      ]
    },
    {
      "cell_type": "markdown",
      "metadata": {
        "id": "ynBmf5Tg_RQ8"
      },
      "source": [
        "##Plot Gradient"
      ]
    },
    {
      "cell_type": "code",
      "execution_count": 83,
      "metadata": {
        "id": "sdyLkQCc_gsA"
      },
      "outputs": [],
      "source": [
        "def plot_grad_flow(named_parameters):\n",
        "    ave_grads = []\n",
        "    layers = []\n",
        "    for n, p in named_parameters:\n",
        "        if(p.requires_grad) and (\"bias\" not in n):\n",
        "            layers.append(n)\n",
        "            ave_grads.append(p.grad.abs().mean().cpu().detach().numpy())\n",
        "    plt.plot(ave_grads, alpha=0.3, color=\"b\")\n",
        "    plt.hlines(0, 0, len(ave_grads)+1, linewidth=1, color=\"k\" )\n",
        "    plt.xticks(range(0,len(ave_grads), 1), layers, rotation=\"vertical\")\n",
        "    plt.xlim(xmin=0, xmax=len(ave_grads))\n",
        "    plt.xlabel(\"Layers\")\n",
        "    plt.ylabel(\"average gradient\")\n",
        "    plt.title(\"Gradient flow\")\n",
        "    plt.grid(True)\n",
        "    plt.tight_layout()\n",
        "    plt.pause(0.001)\n",
        "    plt.close()\n",
        "\n",
        "\n",
        "\n",
        "def plot_grad_flow_2(named_parameters, figsize=(12, 4), tick_step=5, log_scale=False):\n",
        "    \"\"\"\n",
        "    Disegna il flow dei gradienti medi per layer.\n",
        "\n",
        "    Args:\n",
        "      named_parameters: modello.named_parameters()\n",
        "      figsize: tupla per la dimensione della figura (larghezza, altezza)\n",
        "      tick_step: mostra un’etichetta ogni `tick_step` parameteri\n",
        "      log_scale: se True usa scala logaritmica in y\n",
        "    \"\"\"\n",
        "    ave_grads = []\n",
        "    layers = []\n",
        "    for name, param in named_parameters:\n",
        "        if param.requires_grad and \"bias\" not in name:\n",
        "            layers.append(name)\n",
        "            ave_grads.append(param.grad.abs().mean().cpu().item())\n",
        "\n",
        "    fig, ax = plt.subplots(figsize=figsize)\n",
        "\n",
        "    # Plot principale: linea con marcatori\n",
        "    ax.plot(ave_grads, marker='o', linestyle='-', alpha=0.7)\n",
        "\n",
        "    # Linea orizzonte a zero\n",
        "    ax.axhline(0, color='black', linewidth=0.8)\n",
        "\n",
        "    # Grid più leggera\n",
        "    ax.grid(which='major', linestyle='--', alpha=0.5)\n",
        "    ax.grid(which='minor', linestyle=':', alpha=0.3)\n",
        "\n",
        "    # Scala log sui gradienti (opzionale)\n",
        "    if log_scale:\n",
        "        ax.set_yscale('log')\n",
        "\n",
        "    # Limiti asse x\n",
        "    ax.set_xlim(-0.5, len(ave_grads) - 0.5)\n",
        "\n",
        "    # Etichette dei layer, mostro solo ogni tick_step\n",
        "    ticks = np.arange(0, len(layers), tick_step)\n",
        "    ax.set_xticks(ticks)\n",
        "    ax.set_xticklabels([layers[i] for i in ticks], rotation=90, ha='right', fontsize=8)\n",
        "\n",
        "    ax.set_xlabel(\"Layers\")\n",
        "    ax.set_ylabel(\"Average gradient\" + (\" (log scale)\" if log_scale else \"\"))\n",
        "    ax.set_title(\"Gradient flow\")\n",
        "\n",
        "    plt.tight_layout()\n",
        "    plt.show()\n",
        "\n",
        "def plot_grad_flow_3(\n",
        "    named_parameters,\n",
        "    epoch=None,\n",
        "    batch_idx=None,\n",
        "    figsize=(8, 12),\n",
        "    tick_step=5,\n",
        "    threshold=None,\n",
        "    log_scale=False,\n",
        "\n",
        "):\n",
        "    \"\"\"\n",
        "    Disegna il flow dei gradienti medi per layer, con:\n",
        "      - figura orizzontale (barh) per leggibilità\n",
        "      - abbreviazione automatica dei nomi\n",
        "      - tick ogni `tick_step` layer\n",
        "      - colorazione rossa sotto soglia (se threshold non è None)\n",
        "      - scala logaritmica (se log_scale=True)\n",
        "      - annotazione del massimo gradiente\n",
        "\n",
        "    Args:\n",
        "      named_parameters: modello.named_parameters()\n",
        "      figsize: (width, height) della figura\n",
        "      tick_step: mostra una label ogni tick_step layer\n",
        "      threshold: valore sotto il quale il bar è rosso (default blu)\n",
        "      log_scale: attiva scala log su asse X\n",
        "    \"\"\"\n",
        "    # 1) Raccogli nomi e gradienti medi\n",
        "    layers, ave_grads = [], []\n",
        "    for name, param in named_parameters:\n",
        "        if param.requires_grad and \"bias\" not in name:\n",
        "            # abbrevia nome togliendo prefissi/suffissi comuni\n",
        "            short_name = name.replace(\"encoder.\", \"\").replace(\".weight\", \"\")\n",
        "            layers.append(short_name)\n",
        "            ave_grads.append(param.grad.abs().mean().cpu().item())\n",
        "\n",
        "    if not layers:\n",
        "        print(\"Nessun parametro con gradiente da plottare.\")\n",
        "        return\n",
        "\n",
        "    y = np.arange(len(layers))\n",
        "\n",
        "    # 2) Setup figura\n",
        "    fig, ax = plt.subplots(figsize=figsize)\n",
        "\n",
        "    # 3) Colorazione in base alla soglia\n",
        "    if threshold is not None:\n",
        "        colors = ['r' if g < threshold else 'b' for g in ave_grads]\n",
        "    else:\n",
        "        colors = 'b'\n",
        "\n",
        "    # 4) Bar plot orizzontale\n",
        "    ax.barh(y, ave_grads, height=0.6, color=colors)\n",
        "    ax.invert_yaxis()  # inverte per avere il primo layer in alto\n",
        "\n",
        "    # 5) Scala logaritmica opzionale\n",
        "    if log_scale:\n",
        "        ax.set_xscale('log')\n",
        "\n",
        "    # 6) Tick solo ogni `tick_step`\n",
        "    ticks = y[::tick_step]\n",
        "    ax.set_yticks(ticks)\n",
        "    ax.set_yticklabels([layers[i] for i in ticks], fontsize=8)\n",
        "\n",
        "    # 7) Annotazione del massimo gradiente\n",
        "    '''\n",
        "    imax = int(np.argmax(ave_grads))\n",
        "    ax.text(\n",
        "        ave_grads[imax],\n",
        "        imax,\n",
        "        f\"{ave_grads[imax]:.2e}\",\n",
        "        va='center',\n",
        "        ha='left',\n",
        "        fontsize=7,\n",
        "        color='darkgreen'\n",
        "    )\n",
        "    '''\n",
        "    imax = np.argmax(ave_grads)  # Get the index of the max average gradient\n",
        "    ax.annotate(\n",
        "      f\"{ave_grads[imax]:.2e}\",\n",
        "      xy=(ave_grads[imax], imax),\n",
        "      xytext=(ave_grads[imax] + max(ave_grads)*0.05, imax),\n",
        "      va='center',\n",
        "      fontsize=10,\n",
        "      fontweight='bold',\n",
        "      color='darkgreen',\n",
        "      arrowprops=dict(\n",
        "          arrowstyle='-|>',\n",
        "          color='darkgreen',\n",
        "          lw=1.2\n",
        "    ),\n",
        "    bbox=dict(\n",
        "        facecolor='white',\n",
        "        edgecolor='darkgreen',\n",
        "        boxstyle='round,pad=0.3',\n",
        "        alpha=0.8\n",
        "    )\n",
        "    )\n",
        "\n",
        "\n",
        "    # 8) Titoli e griglia\n",
        "    ax.set_xlabel(\"Average gradient\" + (\" (log scale)\" if log_scale else \"\"))\n",
        "    ax.set_title(f\"Gradient flow at epoch{epoch} - batch{batch_idx}\")\n",
        "    ax.grid(which='major', linestyle='--', alpha=0.5)\n",
        "\n",
        "    '''\n",
        "    if epoch is not None and batch_idx is not None:\n",
        "            ax.text(\n",
        "                0.01, 0.99,\n",
        "                f\"Epoch: {epoch}\\nBatch: {batch_idx}\",\n",
        "                transform=ax.transAxes,\n",
        "                va='top', ha='left',\n",
        "                fontsize=8,\n",
        "                bbox=dict(facecolor='white', alpha=0.7, edgecolor='gray')\n",
        "            )\n",
        "\n",
        "    '''\n",
        "\n",
        "\n",
        "    plt.tight_layout()\n",
        "\n",
        "    #plt.show(block=False)\n",
        "    plt.pause(0.001)\n",
        "\n",
        "    return fig\n",
        "\n",
        "\n",
        "def plot_grad_flow_4(\n",
        "    named_parameters,\n",
        "    epoch=None,\n",
        "    batch_idx=None,\n",
        "    figsize=(10, 6),\n",
        "    tick_step=5,\n",
        "    threshold=None,\n",
        "    log_scale=False,\n",
        "):\n",
        "    \"\"\"\n",
        "    Disegna il flow dei gradienti medi per layer con un bar plot verticale:\n",
        "      - abbrevia i nomi dei layer\n",
        "      - mostra una label ogni `tick_step` categorie sull’asse x\n",
        "      - colora in rosso le barre sotto soglia (se threshold non None)\n",
        "      - scala logaritmica su y se richiesta\n",
        "      - annota il massimo gradiente con freccia e box\n",
        "      - titolo dinamico con epoch e batch\n",
        "    \"\"\"\n",
        "    # 1) Raccogli nomi e gradienti medi\n",
        "    layers, ave_grads = [], []\n",
        "    for name, param in named_parameters:\n",
        "        if param.requires_grad and \"bias\" not in name:\n",
        "            short_name = name.replace(\"encoder.\", \"\").replace(\".weight\", \"\")\n",
        "            layers.append(short_name)\n",
        "            ave_grads.append(param.grad.abs().mean().cpu().item())\n",
        "\n",
        "    if not layers:\n",
        "        print(\"Nessun parametro con gradiente da plottare.\")\n",
        "        return\n",
        "\n",
        "    # 2) Prepara indici e colori\n",
        "    x = np.arange(len(layers))\n",
        "    if threshold is not None:\n",
        "        colors = ['r' if g < threshold else 'b' for g in ave_grads]\n",
        "    else:\n",
        "        colors = 'b'\n",
        "\n",
        "    # 3) Costruisci figura\n",
        "    fig, ax = plt.subplots(figsize=figsize)\n",
        "\n",
        "    # 4) Bar plot verticale\n",
        "    ax.bar(x, ave_grads, width=0.6, color=colors)\n",
        "\n",
        "    # 5) Scala logaritmica sull’asse y (opzionale)\n",
        "    if log_scale:\n",
        "        ax.set_yscale('log')\n",
        "\n",
        "    # 6) Tick solo ogni tick_step etichette sull’asse x\n",
        "    ticks = x[::tick_step]\n",
        "    ax.set_xticks(ticks)\n",
        "    ax.set_xticklabels([layers[i] for i in ticks],\n",
        "                       rotation=90, ha='right', fontsize=8)\n",
        "\n",
        "    # 7) Annotazione del massimo gradiente\n",
        "    imax = int(np.argmax(ave_grads))\n",
        "    gmax = ave_grads[imax]\n",
        "    ax.annotate(\n",
        "        f\"{gmax:.2e}\",\n",
        "        xy=(imax, gmax),\n",
        "        xytext=(imax, gmax + max(ave_grads) * 0.05),\n",
        "        va='bottom', ha='center',\n",
        "        fontsize=10, fontweight='bold', color='darkgreen',\n",
        "        arrowprops=dict(arrowstyle='-|>', color='darkgreen', lw=1.2),\n",
        "        bbox=dict(facecolor='white', edgecolor='darkgreen',\n",
        "                  boxstyle='round,pad=0.3', alpha=0.8)\n",
        "    )\n",
        "\n",
        "    # 8) Titoli e griglia\n",
        "    ax.set_ylabel(\"Average gradient\" + (\" (log)\" if log_scale else \"\"))\n",
        "    title = \"Gradient flow\"\n",
        "    if epoch is not None and batch_idx is not None:\n",
        "        title += f\" at epoch {epoch} — batch {batch_idx}\"\n",
        "    ax.set_title(title)\n",
        "    ax.grid(which='major', linestyle='--', alpha=0.5)\n",
        "\n",
        "    plt.tight_layout()\n",
        "    #plt.pause(0.001)\n",
        "    return fig\n",
        "\n",
        "\n"
      ]
    },
    {
      "cell_type": "markdown",
      "metadata": {
        "id": "dmk8WfcmQ4W9"
      },
      "source": [
        "##Train Function"
      ]
    },
    {
      "cell_type": "code",
      "execution_count": 86,
      "metadata": {
        "id": "ahyr5VX8QX41"
      },
      "outputs": [],
      "source": [
        "#bar_out  = Output()\n",
        "#plot_out = Output()\n",
        "#display(bar_out, plot_out)\n",
        "\n",
        "def train(model, train_loader,optimizer, criterion, epoch,\n",
        "          train_loss_list,acc_train_list,debug_mode=False ):\n",
        "\n",
        "    #counter for total loss\n",
        "    epoch_loss = 0.0\n",
        "    model.train()\n",
        "\n",
        "    predic_labels = []\n",
        "    true_labels = []\n",
        "    all_figs = []\n",
        "\n",
        "    #with bar_out:\n",
        "    pbar = tqdm(train_loader, desc=f\"Training epoch {epoch}\", leave=True,dynamic_ncols=True)\n",
        "\n",
        "    '''\n",
        "    pbar = tqdm(train_loader,\n",
        "                desc=f\"Training epoch {epoch}\",\n",
        "                leave=True,          # lascia la barra a fine ciclo\n",
        "                dynamic_ncols=True)  # si adatta alla larghezza\n",
        "    '''\n",
        "\n",
        "\n",
        "    num_batch_to_display= random.randint(0, temp_batch_size)\n",
        "    for idx,batch in enumerate(pbar):\n",
        "\n",
        "      ## gradients to 0 before working on a batch\n",
        "      optimizer.zero_grad()\n",
        "      inputs = batch['image']\n",
        "      targets = batch['label']\n",
        "\n",
        "      # Move inputs and targets to the correct device\n",
        "      inputs = inputs.to(device)\n",
        "      targets = targets.to(device)\n",
        "\n",
        "      inputs, targets = mixup_fn(inputs, targets)\n",
        "\n",
        "      with torch.amp.autocast(\"cuda\"):\n",
        "        output = model(inputs)\n",
        "        output=output.to(device)\n",
        "\n",
        "        loss = criterion(output, targets)\n",
        "      _,predicted=torch.max(output, dim=1)\n",
        "\n",
        "      predic_labels.extend(predicted.cpu().tolist())\n",
        "      #true_labels.extend(targets.cpu().tolist())#\n",
        "      true_labels.extend(torch.argmax(targets, dim=1).cpu().tolist())\n",
        "\n",
        "      pbar.update(1)\n",
        "\n",
        "      if(debug_mode):\n",
        "\n",
        "\n",
        "        print(f\"Targets {targets}\")\n",
        "        print(f\"Output {output}\")\n",
        "        print(f\"output shape {output.shape}\")\n",
        "        print(f\"targets shape {targets.shape}\")\n",
        "        print(f\"predicted type {predicted.dtype} and shape {predicted.shape}\")\n",
        "        print(f\"predic_labels current {predic_labels}\")\n",
        "        print(f\"true_labels current {true_labels}\")\n",
        "\n",
        "\n",
        "\n",
        "        ############ First image of batch visualizing\n",
        "      if(idx== num_batch_to_display):\n",
        "        print(f\"\\n===================[Training Epoch{epoch}]...example image in  batch n°{num_batch_to_display}:\\n\")\n",
        "        prova= inputs[0]\n",
        "        prova= prova.cpu().permute(1, 2, 0).numpy()\n",
        "        fig, ax = plt.subplots(1, 1, figsize=(5, 2))\n",
        "        ax.imshow(prova)\n",
        "        #ax.set_title(f\"True label:{targets[0].cpu().item()}\\nPreticted Label:{predicted[0].cpu().item()}\")\n",
        "        ax.set_title(f\"True label:{torch.argmax(targets[0]).cpu().item()}\\nPreticted Label:{predicted[0].cpu().item()}\")\n",
        "        ax.axis('off')\n",
        "        plt.tight_layout()\n",
        "        plt.show()\n",
        "        plt.pause(0.001)   # <--rendering forced\n",
        "        plt.close()\n",
        "        #######################\n",
        "\n",
        "      ##backpropagation\n",
        "      #loss.backward()\n",
        "      scaler.scale(loss).backward()\n",
        "      scaler.step(optimizer)\n",
        "      scaler.update()\n",
        "      #optimizer.step()\n",
        "\n",
        "      ##updating counter of total loss\n",
        "\n",
        "      epoch_loss += loss.item()\n",
        "      ##print(\"Plot of gradient style\\n\")\n",
        "      #plot_grad_flow_2(model.named_parameters())\n",
        "\n",
        "      #with plot_out:\n",
        "      #clear_output(wait=True)\n",
        "      if(idx%10 ==0 or idx == len(train_loader)-1 ):\n",
        "        figura=plot_grad_flow_4(\n",
        "            model.named_parameters(),\n",
        "            epoch=epoch,\n",
        "            batch_idx=idx,\n",
        "            figsize=(12, 4),    # se hai molti layer, allarga/altezza diversi\n",
        "            tick_step=10,         # mostra 1 etichetta ogni 10 layer\n",
        "            threshold=1e-5,       # colora in rosso gradienti troppo bassi\n",
        "            log_scale=False\n",
        "          # o True se vuoi scala log\n",
        "        )\n",
        "\n",
        "        if figura is not None:\n",
        "            display(figura)\n",
        "            all_figs.append(figura)\n",
        "            plt.close(figura)\n",
        "      #with bar_out:\n",
        "\n",
        "      pbar.refresh()\n",
        "\n",
        "\n",
        "    ########## the end of the for cycle of every batches\n",
        "\n",
        "\n",
        "\n",
        "\n",
        "\n",
        "    acc = accuracy_score(true_labels, predic_labels)\n",
        "    acc_train_list.append(acc)\n",
        "\n",
        "    train_loss_list.append(epoch_loss)\n",
        "\n",
        "    print(BLUE+f'\\n#################### [Train epoch {epoch}]  || Loss {epoch_loss:.6f}  --> {epoch_loss:.3e}  || Accuracy {acc:.4f}-> ({acc*100.0:.4f})%\\n'+RESET)\n",
        "\n",
        "    if(debug_mode):\n",
        "      for fig in all_figs:\n",
        "        display(fig)\n",
        "\n",
        "\n"
      ]
    },
    {
      "cell_type": "markdown",
      "metadata": {
        "id": "KxlbTj39DQtf"
      },
      "source": [
        "##Validation funciton"
      ]
    },
    {
      "cell_type": "code",
      "execution_count": 87,
      "metadata": {
        "id": "_WJV4s84DSWL"
      },
      "outputs": [],
      "source": [
        "def validate(model,val_loader,val_loss_list, optimizer,criterion, epoch, acc_list,debug_mode=False):\n",
        "\n",
        "  #tolerance=1e-3\n",
        "  model.eval()\n",
        "\n",
        "\n",
        "  val_loss = 0.0\n",
        "\n",
        "  predic_labels = []\n",
        "  true_labels = []\n",
        "\n",
        "  out_list=[]\n",
        "  all_outputs = []\n",
        "  all_targets = []\n",
        "\n",
        "  # no computation of gradient and no backpropagation, not needed to update weights and optimizer\n",
        "\n",
        "  #with bar_out_val:\n",
        "  pbar = tqdm(val_loader, desc=f\"Validation epoch {epoch}\", leave=True,dynamic_ncols=True)\n",
        "\n",
        "  with torch.no_grad():\n",
        "    for batch in pbar:\n",
        "\n",
        "\n",
        "      inputs = batch['image']\n",
        "      inputs=inputs.to(device)\n",
        "      targets=batch['label']\n",
        "      targets = targets.to(device)\n",
        "\n",
        "      output = model(inputs)\n",
        "      loss = criterion(output, targets)\n",
        "      _,predicted=torch.max(output, dim=1)\n",
        "      predic_labels.extend(predicted.cpu().tolist())\n",
        "      true_labels.extend(targets.cpu().tolist())\n",
        "\n",
        "\n",
        "      '''\n",
        "      copia_output=output.cpu().detach().numpy()\n",
        "      copia_target=targets.cpu().detach().numpy()\n",
        "      all_outputs.append(copia_output)\n",
        "      all_targets.append(copia_target)\n",
        "      '''\n",
        "\n",
        "      ##aggiorno contatore val_loss\n",
        "\n",
        "      val_loss += loss.item()\n",
        "\n",
        "      '''\n",
        "      #conversione delle probabilità di output in labels predette\n",
        "      _ , predicted = torch.max(output, dim=1)\n",
        "      predic_labels.extend(predicted.cpu())\n",
        "      true_labels.extend(targets.cpu())\n",
        "      out_list.extend(output.cpu())\n",
        "      '''\n",
        "      #corretti += torch.sum(torch.all(torch.abs(output - targets) < tolerance, dim=1)).item()\n",
        "\n",
        "  # Stack outputs and target into a single array\n",
        "  '''\n",
        "  all_outputs = np.vstack(all_outputs)\n",
        "  all_targets = np.vstack(all_targets)\n",
        "  '''\n",
        "  ##r2=r2_score(all_targets, all_outputs)\n",
        "\n",
        "  #Results\n",
        "  acc =  accuracy_score(true_labels, predic_labels)#corretti/len(val_dataset)\n",
        "  acc_list.append(acc)\n",
        "  val_loss_list.append(val_loss)\n",
        "\n",
        "\n",
        "  print(BLUE+f'\\n#################### [Val epoch {epoch}]  || Loss {val_loss:.6f}  --> {val_loss:.3e} || Accuracy {acc:.4f}-> ({acc*100.0:.4f})%\\n'+RESET)\n"
      ]
    },
    {
      "cell_type": "markdown",
      "metadata": {
        "id": "NxKJFVbswkQ2"
      },
      "source": [
        "## Let's train the model"
      ]
    },
    {
      "cell_type": "code",
      "execution_count": 88,
      "metadata": {
        "colab": {
          "base_uri": "https://localhost:8080/",
          "height": 1000,
          "referenced_widgets": [
            "3e0667b2ba2243e3acee4c3eba4dd4c6",
            "14de3e654c8d4462a6b42d9449878948",
            "8caf758c147f4f8d99d18659617a001f",
            "ed808b02469548c881a66e639bcd351b",
            "1d59171319cc41e79bb4d1fae2c6d515",
            "e2e8a0a508f84872aeb8270c66c5c9d4",
            "336a8719522f4186ae34aedbe416fab3",
            "75553548ab894252a2e17e6698d0f884",
            "d6fd9ec2de0943228a3189788797927e",
            "23f8374aeb6648058cca08ce0f76b7ae",
            "28e249bd9977451ea0dd0c40eee7c49f"
          ]
        },
        "id": "oYdukFBOxfBo",
        "outputId": "c34ea286-f79d-4012-dada-307254224135"
      },
      "outputs": [
        {
          "output_type": "display_data",
          "data": {
            "text/plain": [
              "Training epoch 0:   0%|          | 0/83 [00:00<?, ?it/s]"
            ],
            "application/vnd.jupyter.widget-view+json": {
              "version_major": 2,
              "version_minor": 0,
              "model_id": "3e0667b2ba2243e3acee4c3eba4dd4c6"
            }
          },
          "metadata": {}
        },
        {
          "output_type": "display_data",
          "data": {
            "text/plain": [
              "<Figure size 1200x400 with 1 Axes>"
            ],
            "image/png": "[encoded data removed]"
          },
          "metadata": {}
        },
        {
          "output_type": "display_data",
          "data": {
            "text/plain": [
              "<Figure size 1200x400 with 1 Axes>"
            ],
            "image/png": "[encoded data removed]"
          },
          "metadata": {}
        },
        {
          "output_type": "display_data",
          "data": {
            "text/plain": [
              "<Figure size 1200x400 with 1 Axes>"
            ],
            "image/png": "[encoded data removed]"
          },
          "metadata": {}
        },
        {
          "output_type": "error",
          "ename": "KeyboardInterrupt",
          "evalue": "",
          "traceback": [
            "\u001b[0;31m---------------------------------------------------------------------------\u001b[0m",
            "\u001b[0;31mKeyboardInterrupt\u001b[0m                         Traceback (most recent call last)",
            "\u001b[0;32m/tmp/ipython-input-88-3796157911.py\u001b[0m in \u001b[0;36m<cell line: 0>\u001b[0;34m()\u001b[0m\n\u001b[1;32m     29\u001b[0m \u001b[0;32mfor\u001b[0m \u001b[0mepoch\u001b[0m \u001b[0;32min\u001b[0m  \u001b[0mrange\u001b[0m\u001b[0;34m(\u001b[0m\u001b[0mnum_epochs\u001b[0m\u001b[0;34m)\u001b[0m\u001b[0;34m:\u001b[0m\u001b[0;34m\u001b[0m\u001b[0;34m\u001b[0m\u001b[0m\n\u001b[1;32m     30\u001b[0m \u001b[0;34m\u001b[0m\u001b[0m\n\u001b[0;32m---> 31\u001b[0;31m   \u001b[0mtrain\u001b[0m\u001b[0;34m(\u001b[0m\u001b[0mmodel1\u001b[0m\u001b[0;34m,\u001b[0m \u001b[0mtrain_loader\u001b[0m\u001b[0;34m,\u001b[0m \u001b[0moptimizer\u001b[0m\u001b[0;34m,\u001b[0m \u001b[0mloss_train\u001b[0m\u001b[0;34m,\u001b[0m \u001b[0mepoch\u001b[0m\u001b[0;34m,\u001b[0m \u001b[0mloss_train_list\u001b[0m\u001b[0;34m,\u001b[0m \u001b[0macc_train_list\u001b[0m\u001b[0;34m,\u001b[0m \u001b[0mdebug_mode\u001b[0m\u001b[0;34m=\u001b[0m\u001b[0;32mFalse\u001b[0m\u001b[0;34m)\u001b[0m\u001b[0;34m\u001b[0m\u001b[0;34m\u001b[0m\u001b[0m\n\u001b[0m\u001b[1;32m     32\u001b[0m   \u001b[0mvalidate\u001b[0m\u001b[0;34m(\u001b[0m\u001b[0mmodel1\u001b[0m\u001b[0;34m,\u001b[0m \u001b[0mvalidation_loader\u001b[0m\u001b[0;34m,\u001b[0m \u001b[0mloss_val_list\u001b[0m\u001b[0;34m,\u001b[0m \u001b[0moptimizer\u001b[0m\u001b[0;34m,\u001b[0m \u001b[0mloss_val\u001b[0m\u001b[0;34m,\u001b[0m \u001b[0mepoch\u001b[0m\u001b[0;34m,\u001b[0m \u001b[0macc_val_list\u001b[0m\u001b[0;34m,\u001b[0m \u001b[0mdebug_mode\u001b[0m\u001b[0;34m=\u001b[0m\u001b[0;32mFalse\u001b[0m\u001b[0;34m)\u001b[0m\u001b[0;34m\u001b[0m\u001b[0;34m\u001b[0m\u001b[0m\n\u001b[1;32m     33\u001b[0m   \u001b[0mscheduler\u001b[0m\u001b[0;34m.\u001b[0m\u001b[0mstep\u001b[0m\u001b[0;34m(\u001b[0m\u001b[0;34m)\u001b[0m\u001b[0;34m\u001b[0m\u001b[0;34m\u001b[0m\u001b[0m\n",
            "\u001b[0;32m/tmp/ipython-input-86-1449846051.py\u001b[0m in \u001b[0;36mtrain\u001b[0;34m(model, train_loader, optimizer, criterion, epoch, train_loss_list, acc_train_list, debug_mode)\u001b[0m\n\u001b[1;32m     26\u001b[0m \u001b[0;34m\u001b[0m\u001b[0m\n\u001b[1;32m     27\u001b[0m     \u001b[0mnum_batch_to_display\u001b[0m\u001b[0;34m=\u001b[0m \u001b[0mrandom\u001b[0m\u001b[0;34m.\u001b[0m\u001b[0mrandint\u001b[0m\u001b[0;34m(\u001b[0m\u001b[0;36m0\u001b[0m\u001b[0;34m,\u001b[0m \u001b[0mtemp_batch_size\u001b[0m\u001b[0;34m)\u001b[0m\u001b[0;34m\u001b[0m\u001b[0;34m\u001b[0m\u001b[0m\n\u001b[0;32m---> 28\u001b[0;31m     \u001b[0;32mfor\u001b[0m \u001b[0midx\u001b[0m\u001b[0;34m,\u001b[0m\u001b[0mbatch\u001b[0m \u001b[0;32min\u001b[0m \u001b[0menumerate\u001b[0m\u001b[0;34m(\u001b[0m\u001b[0mpbar\u001b[0m\u001b[0;34m)\u001b[0m\u001b[0;34m:\u001b[0m\u001b[0;34m\u001b[0m\u001b[0;34m\u001b[0m\u001b[0m\n\u001b[0m\u001b[1;32m     29\u001b[0m \u001b[0;34m\u001b[0m\u001b[0m\n\u001b[1;32m     30\u001b[0m       \u001b[0;31m## gradients to 0 before working on a batch\u001b[0m\u001b[0;34m\u001b[0m\u001b[0;34m\u001b[0m\u001b[0m\n",
            "\u001b[0;32m/usr/local/lib/python3.11/dist-packages/tqdm/notebook.py\u001b[0m in \u001b[0;36m__iter__\u001b[0;34m(self)\u001b[0m\n\u001b[1;32m    248\u001b[0m         \u001b[0;32mtry\u001b[0m\u001b[0;34m:\u001b[0m\u001b[0;34m\u001b[0m\u001b[0;34m\u001b[0m\u001b[0m\n\u001b[1;32m    249\u001b[0m             \u001b[0mit\u001b[0m \u001b[0;34m=\u001b[0m \u001b[0msuper\u001b[0m\u001b[0;34m(\u001b[0m\u001b[0;34m)\u001b[0m\u001b[0;34m.\u001b[0m\u001b[0m__iter__\u001b[0m\u001b[0;34m(\u001b[0m\u001b[0;34m)\u001b[0m\u001b[0;34m\u001b[0m\u001b[0;34m\u001b[0m\u001b[0m\n\u001b[0;32m--> 250\u001b[0;31m             \u001b[0;32mfor\u001b[0m \u001b[0mobj\u001b[0m \u001b[0;32min\u001b[0m \u001b[0mit\u001b[0m\u001b[0;34m:\u001b[0m\u001b[0;34m\u001b[0m\u001b[0;34m\u001b[0m\u001b[0m\n\u001b[0m\u001b[1;32m    251\u001b[0m                 \u001b[0;31m# return super(tqdm...) will not catch exception\u001b[0m\u001b[0;34m\u001b[0m\u001b[0;34m\u001b[0m\u001b[0m\n\u001b[1;32m    252\u001b[0m                 \u001b[0;32myield\u001b[0m \u001b[0mobj\u001b[0m\u001b[0;34m\u001b[0m\u001b[0;34m\u001b[0m\u001b[0m\n",
            "\u001b[0;32m/usr/local/lib/python3.11/dist-packages/tqdm/std.py\u001b[0m in \u001b[0;36m__iter__\u001b[0;34m(self)\u001b[0m\n\u001b[1;32m   1179\u001b[0m \u001b[0;34m\u001b[0m\u001b[0m\n\u001b[1;32m   1180\u001b[0m         \u001b[0;32mtry\u001b[0m\u001b[0;34m:\u001b[0m\u001b[0;34m\u001b[0m\u001b[0;34m\u001b[0m\u001b[0m\n\u001b[0;32m-> 1181\u001b[0;31m             \u001b[0;32mfor\u001b[0m \u001b[0mobj\u001b[0m \u001b[0;32min\u001b[0m \u001b[0miterable\u001b[0m\u001b[0;34m:\u001b[0m\u001b[0;34m\u001b[0m\u001b[0;34m\u001b[0m\u001b[0m\n\u001b[0m\u001b[1;32m   1182\u001b[0m                 \u001b[0;32myield\u001b[0m \u001b[0mobj\u001b[0m\u001b[0;34m\u001b[0m\u001b[0;34m\u001b[0m\u001b[0m\n\u001b[1;32m   1183\u001b[0m                 \u001b[0;31m# Update and possibly print the progressbar.\u001b[0m\u001b[0;34m\u001b[0m\u001b[0;34m\u001b[0m\u001b[0m\n",
            "\u001b[0;32m/usr/local/lib/python3.11/dist-packages/torch/utils/data/dataloader.py\u001b[0m in \u001b[0;36m__next__\u001b[0;34m(self)\u001b[0m\n\u001b[1;32m    706\u001b[0m                 \u001b[0;31m# TODO(https://github.com/pytorch/pytorch/issues/76750)\u001b[0m\u001b[0;34m\u001b[0m\u001b[0;34m\u001b[0m\u001b[0m\n\u001b[1;32m    707\u001b[0m                 \u001b[0mself\u001b[0m\u001b[0;34m.\u001b[0m\u001b[0m_reset\u001b[0m\u001b[0;34m(\u001b[0m\u001b[0;34m)\u001b[0m  \u001b[0;31m# type: ignore[call-arg]\u001b[0m\u001b[0;34m\u001b[0m\u001b[0;34m\u001b[0m\u001b[0m\n\u001b[0;32m--> 708\u001b[0;31m             \u001b[0mdata\u001b[0m \u001b[0;34m=\u001b[0m \u001b[0mself\u001b[0m\u001b[0;34m.\u001b[0m\u001b[0m_next_data\u001b[0m\u001b[0;34m(\u001b[0m\u001b[0;34m)\u001b[0m\u001b[0;34m\u001b[0m\u001b[0;34m\u001b[0m\u001b[0m\n\u001b[0m\u001b[1;32m    709\u001b[0m             \u001b[0mself\u001b[0m\u001b[0;34m.\u001b[0m\u001b[0m_num_yielded\u001b[0m \u001b[0;34m+=\u001b[0m \u001b[0;36m1\u001b[0m\u001b[0;34m\u001b[0m\u001b[0;34m\u001b[0m\u001b[0m\n\u001b[1;32m    710\u001b[0m             if (\n",
            "\u001b[0;32m/usr/local/lib/python3.11/dist-packages/torch/utils/data/dataloader.py\u001b[0m in \u001b[0;36m_next_data\u001b[0;34m(self)\u001b[0m\n\u001b[1;32m    762\u001b[0m     \u001b[0;32mdef\u001b[0m \u001b[0m_next_data\u001b[0m\u001b[0;34m(\u001b[0m\u001b[0mself\u001b[0m\u001b[0;34m)\u001b[0m\u001b[0;34m:\u001b[0m\u001b[0;34m\u001b[0m\u001b[0;34m\u001b[0m\u001b[0m\n\u001b[1;32m    763\u001b[0m         \u001b[0mindex\u001b[0m \u001b[0;34m=\u001b[0m \u001b[0mself\u001b[0m\u001b[0;34m.\u001b[0m\u001b[0m_next_index\u001b[0m\u001b[0;34m(\u001b[0m\u001b[0;34m)\u001b[0m  \u001b[0;31m# may raise StopIteration\u001b[0m\u001b[0;34m\u001b[0m\u001b[0;34m\u001b[0m\u001b[0m\n\u001b[0;32m--> 764\u001b[0;31m         \u001b[0mdata\u001b[0m \u001b[0;34m=\u001b[0m \u001b[0mself\u001b[0m\u001b[0;34m.\u001b[0m\u001b[0m_dataset_fetcher\u001b[0m\u001b[0;34m.\u001b[0m\u001b[0mfetch\u001b[0m\u001b[0;34m(\u001b[0m\u001b[0mindex\u001b[0m\u001b[0;34m)\u001b[0m  \u001b[0;31m# may raise StopIteration\u001b[0m\u001b[0;34m\u001b[0m\u001b[0;34m\u001b[0m\u001b[0m\n\u001b[0m\u001b[1;32m    765\u001b[0m         \u001b[0;32mif\u001b[0m \u001b[0mself\u001b[0m\u001b[0;34m.\u001b[0m\u001b[0m_pin_memory\u001b[0m\u001b[0;34m:\u001b[0m\u001b[0;34m\u001b[0m\u001b[0;34m\u001b[0m\u001b[0m\n\u001b[1;32m    766\u001b[0m             \u001b[0mdata\u001b[0m \u001b[0;34m=\u001b[0m \u001b[0m_utils\u001b[0m\u001b[0;34m.\u001b[0m\u001b[0mpin_memory\u001b[0m\u001b[0;34m.\u001b[0m\u001b[0mpin_memory\u001b[0m\u001b[0;34m(\u001b[0m\u001b[0mdata\u001b[0m\u001b[0;34m,\u001b[0m \u001b[0mself\u001b[0m\u001b[0;34m.\u001b[0m\u001b[0m_pin_memory_device\u001b[0m\u001b[0;34m)\u001b[0m\u001b[0;34m\u001b[0m\u001b[0;34m\u001b[0m\u001b[0m\n",
            "\u001b[0;32m/usr/local/lib/python3.11/dist-packages/torch/utils/data/_utils/fetch.py\u001b[0m in \u001b[0;36mfetch\u001b[0;34m(self, possibly_batched_index)\u001b[0m\n\u001b[1;32m     50\u001b[0m                 \u001b[0mdata\u001b[0m \u001b[0;34m=\u001b[0m \u001b[0mself\u001b[0m\u001b[0;34m.\u001b[0m\u001b[0mdataset\u001b[0m\u001b[0;34m.\u001b[0m\u001b[0m__getitems__\u001b[0m\u001b[0;34m(\u001b[0m\u001b[0mpossibly_batched_index\u001b[0m\u001b[0;34m)\u001b[0m\u001b[0;34m\u001b[0m\u001b[0;34m\u001b[0m\u001b[0m\n\u001b[1;32m     51\u001b[0m             \u001b[0;32melse\u001b[0m\u001b[0;34m:\u001b[0m\u001b[0;34m\u001b[0m\u001b[0;34m\u001b[0m\u001b[0m\n\u001b[0;32m---> 52\u001b[0;31m                 \u001b[0mdata\u001b[0m \u001b[0;34m=\u001b[0m \u001b[0;34m[\u001b[0m\u001b[0mself\u001b[0m\u001b[0;34m.\u001b[0m\u001b[0mdataset\u001b[0m\u001b[0;34m[\u001b[0m\u001b[0midx\u001b[0m\u001b[0;34m]\u001b[0m \u001b[0;32mfor\u001b[0m \u001b[0midx\u001b[0m \u001b[0;32min\u001b[0m \u001b[0mpossibly_batched_index\u001b[0m\u001b[0;34m]\u001b[0m\u001b[0;34m\u001b[0m\u001b[0;34m\u001b[0m\u001b[0m\n\u001b[0m\u001b[1;32m     53\u001b[0m         \u001b[0;32melse\u001b[0m\u001b[0;34m:\u001b[0m\u001b[0;34m\u001b[0m\u001b[0;34m\u001b[0m\u001b[0m\n\u001b[1;32m     54\u001b[0m             \u001b[0mdata\u001b[0m \u001b[0;34m=\u001b[0m \u001b[0mself\u001b[0m\u001b[0;34m.\u001b[0m\u001b[0mdataset\u001b[0m\u001b[0;34m[\u001b[0m\u001b[0mpossibly_batched_index\u001b[0m\u001b[0;34m]\u001b[0m\u001b[0;34m\u001b[0m\u001b[0;34m\u001b[0m\u001b[0m\n",
            "\u001b[0;32m/usr/local/lib/python3.11/dist-packages/torch/utils/data/_utils/fetch.py\u001b[0m in \u001b[0;36m<listcomp>\u001b[0;34m(.0)\u001b[0m\n\u001b[1;32m     50\u001b[0m                 \u001b[0mdata\u001b[0m \u001b[0;34m=\u001b[0m \u001b[0mself\u001b[0m\u001b[0;34m.\u001b[0m\u001b[0mdataset\u001b[0m\u001b[0;34m.\u001b[0m\u001b[0m__getitems__\u001b[0m\u001b[0;34m(\u001b[0m\u001b[0mpossibly_batched_index\u001b[0m\u001b[0;34m)\u001b[0m\u001b[0;34m\u001b[0m\u001b[0;34m\u001b[0m\u001b[0m\n\u001b[1;32m     51\u001b[0m             \u001b[0;32melse\u001b[0m\u001b[0;34m:\u001b[0m\u001b[0;34m\u001b[0m\u001b[0;34m\u001b[0m\u001b[0m\n\u001b[0;32m---> 52\u001b[0;31m                 \u001b[0mdata\u001b[0m \u001b[0;34m=\u001b[0m \u001b[0;34m[\u001b[0m\u001b[0mself\u001b[0m\u001b[0;34m.\u001b[0m\u001b[0mdataset\u001b[0m\u001b[0;34m[\u001b[0m\u001b[0midx\u001b[0m\u001b[0;34m]\u001b[0m \u001b[0;32mfor\u001b[0m \u001b[0midx\u001b[0m \u001b[0;32min\u001b[0m \u001b[0mpossibly_batched_index\u001b[0m\u001b[0;34m]\u001b[0m\u001b[0;34m\u001b[0m\u001b[0;34m\u001b[0m\u001b[0m\n\u001b[0m\u001b[1;32m     53\u001b[0m         \u001b[0;32melse\u001b[0m\u001b[0;34m:\u001b[0m\u001b[0;34m\u001b[0m\u001b[0;34m\u001b[0m\u001b[0m\n\u001b[1;32m     54\u001b[0m             \u001b[0mdata\u001b[0m \u001b[0;34m=\u001b[0m \u001b[0mself\u001b[0m\u001b[0;34m.\u001b[0m\u001b[0mdataset\u001b[0m\u001b[0;34m[\u001b[0m\u001b[0mpossibly_batched_index\u001b[0m\u001b[0;34m]\u001b[0m\u001b[0;34m\u001b[0m\u001b[0;34m\u001b[0m\u001b[0m\n",
            "\u001b[0;32m/tmp/ipython-input-36-815587239.py\u001b[0m in \u001b[0;36m__getitem__\u001b[0;34m(self, idx)\u001b[0m\n\u001b[1;32m     52\u001b[0m         \u001b[0;32mif\u001b[0m\u001b[0;34m(\u001b[0m\u001b[0mself\u001b[0m\u001b[0;34m.\u001b[0m\u001b[0maugmentation\u001b[0m\u001b[0;34m)\u001b[0m\u001b[0;34m:\u001b[0m\u001b[0;34m\u001b[0m\u001b[0;34m\u001b[0m\u001b[0m\n\u001b[1;32m     53\u001b[0m           \u001b[0mcomposition\u001b[0m\u001b[0;34m=\u001b[0m\u001b[0mmake_transform\u001b[0m\u001b[0;34m(\u001b[0m\u001b[0mimage_size\u001b[0m\u001b[0;34m=\u001b[0m\u001b[0;36m64\u001b[0m\u001b[0;34m,\u001b[0m \u001b[0maugment\u001b[0m\u001b[0;34m=\u001b[0m\u001b[0;32mTrue\u001b[0m\u001b[0;34m,\u001b[0m \u001b[0maug_prob\u001b[0m\u001b[0;34m=\u001b[0m\u001b[0;36m0.5\u001b[0m\u001b[0;34m)\u001b[0m\u001b[0;34m\u001b[0m\u001b[0;34m\u001b[0m\u001b[0m\n\u001b[0;32m---> 54\u001b[0;31m           \u001b[0mimage\u001b[0m \u001b[0;34m=\u001b[0m \u001b[0mcomposition\u001b[0m\u001b[0;34m(\u001b[0m\u001b[0mimage\u001b[0m\u001b[0;34m)\u001b[0m\u001b[0;34m\u001b[0m\u001b[0;34m\u001b[0m\u001b[0m\n\u001b[0m\u001b[1;32m     55\u001b[0m         \u001b[0;32melse\u001b[0m\u001b[0;34m:\u001b[0m\u001b[0;34m\u001b[0m\u001b[0;34m\u001b[0m\u001b[0m\n\u001b[1;32m     56\u001b[0m           \u001b[0mcomposition\u001b[0m\u001b[0;34m=\u001b[0m\u001b[0mmake_transform\u001b[0m\u001b[0;34m(\u001b[0m\u001b[0mimage_size\u001b[0m\u001b[0;34m=\u001b[0m\u001b[0;36m64\u001b[0m\u001b[0;34m,\u001b[0m \u001b[0maugment\u001b[0m\u001b[0;34m=\u001b[0m\u001b[0;32mFalse\u001b[0m\u001b[0;34m,\u001b[0m \u001b[0maug_prob\u001b[0m\u001b[0;34m=\u001b[0m\u001b[0;36m0.5\u001b[0m\u001b[0;34m)\u001b[0m\u001b[0;34m\u001b[0m\u001b[0;34m\u001b[0m\u001b[0m\n",
            "\u001b[0;32m/usr/local/lib/python3.11/dist-packages/torchvision/transforms/transforms.py\u001b[0m in \u001b[0;36m__call__\u001b[0;34m(self, img)\u001b[0m\n\u001b[1;32m     93\u001b[0m     \u001b[0;32mdef\u001b[0m \u001b[0m__call__\u001b[0m\u001b[0;34m(\u001b[0m\u001b[0mself\u001b[0m\u001b[0;34m,\u001b[0m \u001b[0mimg\u001b[0m\u001b[0;34m)\u001b[0m\u001b[0;34m:\u001b[0m\u001b[0;34m\u001b[0m\u001b[0;34m\u001b[0m\u001b[0m\n\u001b[1;32m     94\u001b[0m         \u001b[0;32mfor\u001b[0m \u001b[0mt\u001b[0m \u001b[0;32min\u001b[0m \u001b[0mself\u001b[0m\u001b[0;34m.\u001b[0m\u001b[0mtransforms\u001b[0m\u001b[0;34m:\u001b[0m\u001b[0;34m\u001b[0m\u001b[0;34m\u001b[0m\u001b[0m\n\u001b[0;32m---> 95\u001b[0;31m             \u001b[0mimg\u001b[0m \u001b[0;34m=\u001b[0m \u001b[0mt\u001b[0m\u001b[0;34m(\u001b[0m\u001b[0mimg\u001b[0m\u001b[0;34m)\u001b[0m\u001b[0;34m\u001b[0m\u001b[0;34m\u001b[0m\u001b[0m\n\u001b[0m\u001b[1;32m     96\u001b[0m         \u001b[0;32mreturn\u001b[0m \u001b[0mimg\u001b[0m\u001b[0;34m\u001b[0m\u001b[0;34m\u001b[0m\u001b[0m\n\u001b[1;32m     97\u001b[0m \u001b[0;34m\u001b[0m\u001b[0m\n",
            "\u001b[0;32m/usr/local/lib/python3.11/dist-packages/torch/nn/modules/module.py\u001b[0m in \u001b[0;36m_wrapped_call_impl\u001b[0;34m(self, *args, **kwargs)\u001b[0m\n\u001b[1;32m   1737\u001b[0m             \u001b[0;32mreturn\u001b[0m \u001b[0mself\u001b[0m\u001b[0;34m.\u001b[0m\u001b[0m_compiled_call_impl\u001b[0m\u001b[0;34m(\u001b[0m\u001b[0;34m*\u001b[0m\u001b[0margs\u001b[0m\u001b[0;34m,\u001b[0m \u001b[0;34m**\u001b[0m\u001b[0mkwargs\u001b[0m\u001b[0;34m)\u001b[0m  \u001b[0;31m# type: ignore[misc]\u001b[0m\u001b[0;34m\u001b[0m\u001b[0;34m\u001b[0m\u001b[0m\n\u001b[1;32m   1738\u001b[0m         \u001b[0;32melse\u001b[0m\u001b[0;34m:\u001b[0m\u001b[0;34m\u001b[0m\u001b[0;34m\u001b[0m\u001b[0m\n\u001b[0;32m-> 1739\u001b[0;31m             \u001b[0;32mreturn\u001b[0m \u001b[0mself\u001b[0m\u001b[0;34m.\u001b[0m\u001b[0m_call_impl\u001b[0m\u001b[0;34m(\u001b[0m\u001b[0;34m*\u001b[0m\u001b[0margs\u001b[0m\u001b[0;34m,\u001b[0m \u001b[0;34m**\u001b[0m\u001b[0mkwargs\u001b[0m\u001b[0;34m)\u001b[0m\u001b[0;34m\u001b[0m\u001b[0;34m\u001b[0m\u001b[0m\n\u001b[0m\u001b[1;32m   1740\u001b[0m \u001b[0;34m\u001b[0m\u001b[0m\n\u001b[1;32m   1741\u001b[0m     \u001b[0;31m# torchrec tests the code consistency with the following code\u001b[0m\u001b[0;34m\u001b[0m\u001b[0;34m\u001b[0m\u001b[0m\n",
            "\u001b[0;32m/usr/local/lib/python3.11/dist-packages/torch/nn/modules/module.py\u001b[0m in \u001b[0;36m_call_impl\u001b[0;34m(self, *args, **kwargs)\u001b[0m\n\u001b[1;32m   1748\u001b[0m                 \u001b[0;32mor\u001b[0m \u001b[0m_global_backward_pre_hooks\u001b[0m \u001b[0;32mor\u001b[0m \u001b[0m_global_backward_hooks\u001b[0m\u001b[0;34m\u001b[0m\u001b[0;34m\u001b[0m\u001b[0m\n\u001b[1;32m   1749\u001b[0m                 or _global_forward_hooks or _global_forward_pre_hooks):\n\u001b[0;32m-> 1750\u001b[0;31m             \u001b[0;32mreturn\u001b[0m \u001b[0mforward_call\u001b[0m\u001b[0;34m(\u001b[0m\u001b[0;34m*\u001b[0m\u001b[0margs\u001b[0m\u001b[0;34m,\u001b[0m \u001b[0;34m**\u001b[0m\u001b[0mkwargs\u001b[0m\u001b[0;34m)\u001b[0m\u001b[0;34m\u001b[0m\u001b[0;34m\u001b[0m\u001b[0m\n\u001b[0m\u001b[1;32m   1751\u001b[0m \u001b[0;34m\u001b[0m\u001b[0m\n\u001b[1;32m   1752\u001b[0m         \u001b[0mresult\u001b[0m \u001b[0;34m=\u001b[0m \u001b[0;32mNone\u001b[0m\u001b[0;34m\u001b[0m\u001b[0;34m\u001b[0m\u001b[0m\n",
            "\u001b[0;32m/usr/local/lib/python3.11/dist-packages/torchvision/transforms/transforms.py\u001b[0m in \u001b[0;36mforward\u001b[0;34m(self, img)\u001b[0m\n\u001b[1;32m   1272\u001b[0m         \u001b[0;32mfor\u001b[0m \u001b[0mfn_id\u001b[0m \u001b[0;32min\u001b[0m \u001b[0mfn_idx\u001b[0m\u001b[0;34m:\u001b[0m\u001b[0;34m\u001b[0m\u001b[0;34m\u001b[0m\u001b[0m\n\u001b[1;32m   1273\u001b[0m             \u001b[0;32mif\u001b[0m \u001b[0mfn_id\u001b[0m \u001b[0;34m==\u001b[0m \u001b[0;36m0\u001b[0m \u001b[0;32mand\u001b[0m \u001b[0mbrightness_factor\u001b[0m \u001b[0;32mis\u001b[0m \u001b[0;32mnot\u001b[0m \u001b[0;32mNone\u001b[0m\u001b[0;34m:\u001b[0m\u001b[0;34m\u001b[0m\u001b[0;34m\u001b[0m\u001b[0m\n\u001b[0;32m-> 1274\u001b[0;31m                 \u001b[0mimg\u001b[0m \u001b[0;34m=\u001b[0m \u001b[0mF\u001b[0m\u001b[0;34m.\u001b[0m\u001b[0madjust_brightness\u001b[0m\u001b[0;34m(\u001b[0m\u001b[0mimg\u001b[0m\u001b[0;34m,\u001b[0m \u001b[0mbrightness_factor\u001b[0m\u001b[0;34m)\u001b[0m\u001b[0;34m\u001b[0m\u001b[0;34m\u001b[0m\u001b[0m\n\u001b[0m\u001b[1;32m   1275\u001b[0m             \u001b[0;32melif\u001b[0m \u001b[0mfn_id\u001b[0m \u001b[0;34m==\u001b[0m \u001b[0;36m1\u001b[0m \u001b[0;32mand\u001b[0m \u001b[0mcontrast_factor\u001b[0m \u001b[0;32mis\u001b[0m \u001b[0;32mnot\u001b[0m \u001b[0;32mNone\u001b[0m\u001b[0;34m:\u001b[0m\u001b[0;34m\u001b[0m\u001b[0;34m\u001b[0m\u001b[0m\n\u001b[1;32m   1276\u001b[0m                 \u001b[0mimg\u001b[0m \u001b[0;34m=\u001b[0m \u001b[0mF\u001b[0m\u001b[0;34m.\u001b[0m\u001b[0madjust_contrast\u001b[0m\u001b[0;34m(\u001b[0m\u001b[0mimg\u001b[0m\u001b[0;34m,\u001b[0m \u001b[0mcontrast_factor\u001b[0m\u001b[0;34m)\u001b[0m\u001b[0;34m\u001b[0m\u001b[0;34m\u001b[0m\u001b[0m\n",
            "\u001b[0;32m/usr/local/lib/python3.11/dist-packages/torchvision/transforms/functional.py\u001b[0m in \u001b[0;36madjust_brightness\u001b[0;34m(img, brightness_factor)\u001b[0m\n\u001b[1;32m    883\u001b[0m         \u001b[0m_log_api_usage_once\u001b[0m\u001b[0;34m(\u001b[0m\u001b[0madjust_brightness\u001b[0m\u001b[0;34m)\u001b[0m\u001b[0;34m\u001b[0m\u001b[0;34m\u001b[0m\u001b[0m\n\u001b[1;32m    884\u001b[0m     \u001b[0;32mif\u001b[0m \u001b[0;32mnot\u001b[0m \u001b[0misinstance\u001b[0m\u001b[0;34m(\u001b[0m\u001b[0mimg\u001b[0m\u001b[0;34m,\u001b[0m \u001b[0mtorch\u001b[0m\u001b[0;34m.\u001b[0m\u001b[0mTensor\u001b[0m\u001b[0;34m)\u001b[0m\u001b[0;34m:\u001b[0m\u001b[0;34m\u001b[0m\u001b[0;34m\u001b[0m\u001b[0m\n\u001b[0;32m--> 885\u001b[0;31m         \u001b[0;32mreturn\u001b[0m \u001b[0mF_pil\u001b[0m\u001b[0;34m.\u001b[0m\u001b[0madjust_brightness\u001b[0m\u001b[0;34m(\u001b[0m\u001b[0mimg\u001b[0m\u001b[0;34m,\u001b[0m \u001b[0mbrightness_factor\u001b[0m\u001b[0;34m)\u001b[0m\u001b[0;34m\u001b[0m\u001b[0;34m\u001b[0m\u001b[0m\n\u001b[0m\u001b[1;32m    886\u001b[0m \u001b[0;34m\u001b[0m\u001b[0m\n\u001b[1;32m    887\u001b[0m     \u001b[0;32mreturn\u001b[0m \u001b[0mF_t\u001b[0m\u001b[0;34m.\u001b[0m\u001b[0madjust_brightness\u001b[0m\u001b[0;34m(\u001b[0m\u001b[0mimg\u001b[0m\u001b[0;34m,\u001b[0m \u001b[0mbrightness_factor\u001b[0m\u001b[0;34m)\u001b[0m\u001b[0;34m\u001b[0m\u001b[0;34m\u001b[0m\u001b[0m\n",
            "\u001b[0;32m/usr/local/lib/python3.11/dist-packages/torchvision/transforms/_functional_pil.py\u001b[0m in \u001b[0;36madjust_brightness\u001b[0;34m(img, brightness_factor)\u001b[0m\n\u001b[1;32m     71\u001b[0m \u001b[0;34m\u001b[0m\u001b[0m\n\u001b[1;32m     72\u001b[0m     \u001b[0menhancer\u001b[0m \u001b[0;34m=\u001b[0m \u001b[0mImageEnhance\u001b[0m\u001b[0;34m.\u001b[0m\u001b[0mBrightness\u001b[0m\u001b[0;34m(\u001b[0m\u001b[0mimg\u001b[0m\u001b[0;34m)\u001b[0m\u001b[0;34m\u001b[0m\u001b[0;34m\u001b[0m\u001b[0m\n\u001b[0;32m---> 73\u001b[0;31m     \u001b[0mimg\u001b[0m \u001b[0;34m=\u001b[0m \u001b[0menhancer\u001b[0m\u001b[0;34m.\u001b[0m\u001b[0menhance\u001b[0m\u001b[0;34m(\u001b[0m\u001b[0mbrightness_factor\u001b[0m\u001b[0;34m)\u001b[0m\u001b[0;34m\u001b[0m\u001b[0;34m\u001b[0m\u001b[0m\n\u001b[0m\u001b[1;32m     74\u001b[0m     \u001b[0;32mreturn\u001b[0m \u001b[0mimg\u001b[0m\u001b[0;34m\u001b[0m\u001b[0;34m\u001b[0m\u001b[0m\n\u001b[1;32m     75\u001b[0m \u001b[0;34m\u001b[0m\u001b[0m\n",
            "\u001b[0;32m/usr/local/lib/python3.11/dist-packages/PIL/ImageEnhance.py\u001b[0m in \u001b[0;36menhance\u001b[0;34m(self, factor)\u001b[0m\n\u001b[1;32m     38\u001b[0m         \u001b[0;34m:\u001b[0m\u001b[0mrtype\u001b[0m\u001b[0;34m:\u001b[0m \u001b[0;34m:\u001b[0m\u001b[0mpy\u001b[0m\u001b[0;34m:\u001b[0m\u001b[0;32mclass\u001b[0m\u001b[0;34m:\u001b[0m\u001b[0;31m`\u001b[0m\u001b[0;34m~\u001b[0m\u001b[0mPIL\u001b[0m\u001b[0;34m.\u001b[0m\u001b[0mImage\u001b[0m\u001b[0;34m.\u001b[0m\u001b[0mImage\u001b[0m\u001b[0;31m`\u001b[0m\u001b[0;34m\u001b[0m\u001b[0;34m\u001b[0m\u001b[0m\n\u001b[1;32m     39\u001b[0m         \"\"\"\n\u001b[0;32m---> 40\u001b[0;31m         \u001b[0;32mreturn\u001b[0m \u001b[0mImage\u001b[0m\u001b[0;34m.\u001b[0m\u001b[0mblend\u001b[0m\u001b[0;34m(\u001b[0m\u001b[0mself\u001b[0m\u001b[0;34m.\u001b[0m\u001b[0mdegenerate\u001b[0m\u001b[0;34m,\u001b[0m \u001b[0mself\u001b[0m\u001b[0;34m.\u001b[0m\u001b[0mimage\u001b[0m\u001b[0;34m,\u001b[0m \u001b[0mfactor\u001b[0m\u001b[0;34m)\u001b[0m\u001b[0;34m\u001b[0m\u001b[0;34m\u001b[0m\u001b[0m\n\u001b[0m\u001b[1;32m     41\u001b[0m \u001b[0;34m\u001b[0m\u001b[0m\n\u001b[1;32m     42\u001b[0m \u001b[0;34m\u001b[0m\u001b[0m\n",
            "\u001b[0;32m/usr/local/lib/python3.11/dist-packages/PIL/Image.py\u001b[0m in \u001b[0;36mblend\u001b[0;34m(im1, im2, alpha)\u001b[0m\n\u001b[1;32m   3612\u001b[0m     \u001b[0mim1\u001b[0m\u001b[0;34m.\u001b[0m\u001b[0mload\u001b[0m\u001b[0;34m(\u001b[0m\u001b[0;34m)\u001b[0m\u001b[0;34m\u001b[0m\u001b[0;34m\u001b[0m\u001b[0m\n\u001b[1;32m   3613\u001b[0m     \u001b[0mim2\u001b[0m\u001b[0;34m.\u001b[0m\u001b[0mload\u001b[0m\u001b[0;34m(\u001b[0m\u001b[0;34m)\u001b[0m\u001b[0;34m\u001b[0m\u001b[0;34m\u001b[0m\u001b[0m\n\u001b[0;32m-> 3614\u001b[0;31m     \u001b[0;32mreturn\u001b[0m \u001b[0mim1\u001b[0m\u001b[0;34m.\u001b[0m\u001b[0m_new\u001b[0m\u001b[0;34m(\u001b[0m\u001b[0mcore\u001b[0m\u001b[0;34m.\u001b[0m\u001b[0mblend\u001b[0m\u001b[0;34m(\u001b[0m\u001b[0mim1\u001b[0m\u001b[0;34m.\u001b[0m\u001b[0mim\u001b[0m\u001b[0;34m,\u001b[0m \u001b[0mim2\u001b[0m\u001b[0;34m.\u001b[0m\u001b[0mim\u001b[0m\u001b[0;34m,\u001b[0m \u001b[0malpha\u001b[0m\u001b[0;34m)\u001b[0m\u001b[0;34m)\u001b[0m\u001b[0;34m\u001b[0m\u001b[0;34m\u001b[0m\u001b[0m\n\u001b[0m\u001b[1;32m   3615\u001b[0m \u001b[0;34m\u001b[0m\u001b[0m\n\u001b[1;32m   3616\u001b[0m \u001b[0;34m\u001b[0m\u001b[0m\n",
            "\u001b[0;31mKeyboardInterrupt\u001b[0m: "
          ]
        }
      ],
      "source": [
        "## messo model_test per prova\n",
        "model1 = model_test.to(device)\n",
        "\n",
        "loss_train_list=[]\n",
        "loss_val_list=[]\n",
        "acc_train_list=[]\n",
        "acc_val_list=[]\n",
        "best_val_acc=0.0\n",
        "best_epoch=0\n",
        "best_train_acc=0.0\n",
        "\n",
        "##num epochs spostato su initializzation\n",
        "\n",
        "#bar_out  = Output()\n",
        "#plot_out = Output()\n",
        "#bar_out_val  = Output()\n",
        "#display(bar_out,bar_out_val, plot_out)\n",
        "\n",
        "#display(bar_out_val)\n",
        "start_time = time.time()\n",
        "\n",
        "version=2\n",
        "\n",
        "pth_model = 'model'+str(version)+'_epochs'+str(num_epochs)+'.pth'\n",
        "pth_optimizer='optimizer'+str(version)+'_epochs'+str(num_epochs)+'.pth'\n",
        "\n",
        "\n",
        "\n",
        "for epoch in  range(num_epochs):\n",
        "\n",
        "  train(model1, train_loader, optimizer, loss_train, epoch, loss_train_list, acc_train_list, debug_mode=False)\n",
        "  validate(model1, validation_loader, loss_val_list, optimizer, loss_val, epoch, acc_val_list, debug_mode=False)\n",
        "  scheduler.step()\n",
        "\n",
        "\n",
        "  if(best_val_acc<acc_val_list[epoch]):\n",
        "        ##print(\"Saving validation accuracy...\\n\")\n",
        "        best_val_acc=acc_val_list[epoch]\n",
        "        best_epoch=epoch\n",
        "  if(best_train_acc<acc_train_list[epoch]):\n",
        "        ##print(\"Saving training accuracy...\\n\")\n",
        "        best_train_acc=acc_train_list[epoch]\n",
        "\n",
        "  if device_name in device_list:\n",
        "    print(\"Saving model..on Pietro pc\")\n",
        "    pth_checkpoint = 'model'+str(version)+'_epochs'+str(epoch)+'.pth'\n",
        "    torch.save(model1.state_dict(), path_saves_pc_pi+pth_model)\n",
        "    pth_optimizer_checkpoint='optimizer'+str(version)+'_epochs'+str(epoch)+'.pth'\n",
        "    torch.save(optimizer.state_dict(), path_saves_pc_pi+pth_optimizer_checkpoint)\n",
        "    print(\"Model Saved in Pietro pc!\")\n",
        "\n",
        "\n",
        "\n",
        "  '''\n",
        "  <3<3<3<3<3<3<3<3<3<3<3<3<3<3<3<3<3<3<3<3<3<3<3<3<3<3<3<3<3<3<3<3<3<3<3<3<3<3<3\n",
        "  <3<3<3<3<3<3\n",
        "  <3<3<3<3<3<3<3<3 LY <3<3<3<3<3<3<3<3\n",
        "  '''\n",
        "\n",
        "end=time.time()\n",
        "print(RED+f\"++++++++++Best epoch was {best_epoch} ++++++++++++++++++++\\n\")\n",
        "print(RED+f\"++++++++++Best val accuracy was {best_val_acc*100.0:.4f}% ++++++++++++++++++++\\n\")\n",
        "print(RED+f\"++++++++++Best train accuracy was {best_train_acc*100.0:.4f}% ++++++++++++++++++++\\n\")\n",
        "print(RED+f\"++++++++++Training time: {end-start_time} ++++++++++++++++++++\\n\")"
      ]
    },
    {
      "cell_type": "code",
      "execution_count": null,
      "metadata": {
        "colab": {
          "base_uri": "https://localhost:8080/",
          "height": 766
        },
        "id": "wCUM2R-oevvT",
        "outputId": "61a0a296-df1e-4a42-b832-da9cca2945e4"
      },
      "outputs": [
        {
          "data": {
            "image/png": "[encoded data removed]",
            "text/plain": [
              "<Figure size 2000x1000 with 1 Axes>"
            ]
          },
          "metadata": {},
          "output_type": "display_data"
        }
      ],
      "source": [
        "#VisionTransformer_ 10.8% LR: 0.#Train and Validation Loss\n",
        "\n",
        "list_epochs=list(range(0,len(loss_train_list)))\n",
        "plt.figure(figsize=(20, 10))\n",
        "plt.plot(loss_train_list, label=\"Train Loss\")\n",
        "plt.plot(loss_val_list, label=\"Val Loss\")\n",
        "plt.title(f\"Train vs Validation Loss per Epoch- model version{version}\")\n",
        "plt.legend(loc=\"upper right\")\n",
        "plt.xlabel(\"Epochs\")\n",
        "plt.ylabel(\"Loss\")\n",
        "plt.xticks(list_epochs)\n",
        "plt.grid(linestyle='-',alpha=0.3)\n",
        "\n",
        "plt.grid(linestyle='-',alpha=0.3)\n",
        "plt.show()\n"
      ]
    },
    {
      "cell_type": "code",
      "execution_count": null,
      "metadata": {
        "colab": {
          "base_uri": "https://localhost:8080/"
        },
        "id": "gi5XY3wnJH5s",
        "outputId": "2e00c2e5-aef7-49df-920c-7d3ff8ed135d"
      },
      "outputs": [
        {
          "name": "stdout",
          "output_type": "stream",
          "text": [
            "[3560.947014808655, 3383.387215614319, 3300.3449511528015, 3210.9648962020874, 3123.5703983306885, 3061.770782470703, 3005.504847049713, 2958.5678520202637, 2911.2740001678467, 2875.053460597992, 2843.5059547424316, 2813.5066673755646, 2772.398042678833, 2741.2273235321045, 2704.5416266918182, 2669.758935689926, 2631.473106622696, 2599.7082176208496, 2570.1767320632935, 2524.135223388672, 2487.0266835689545, 2449.871906042099, 2411.8240609169006, 2374.2418336868286, 2333.5464293956757, 2297.22412610054, 2240.9346301555634, 2212.0279552936554, 2169.5664286613464, 2153.399649143219, 2096.7436068058014, 2073.2504992485046, 2040.5806641578674, 2000.9217293262482, 1956.9390399456024, 1924.1047520637512, 1906.5531632900238, 1881.5750148296356, 1840.9068503379822, 1846.0132203102112, 1818.591387271881, 1783.7262046337128, 1784.2855880260468, 1775.1049511432648, 1786.1496040821075, 1750.1575727462769, 1734.7404491901398, 1750.0291283130646, 1738.4871051311493, 1712.4775485992432]\n",
            "[425.8752655982971, 389.53061866760254, 375.37918615341187, 358.18772888183594, 342.75935220718384, 335.7655563354492, 328.5317668914795, 322.89432191848755, 317.881534576416, 313.35613441467285, 310.9966039657593, 306.93991780281067, 303.5840256214142, 300.50469279289246, 299.59020614624023, 297.6358177661896, 294.60015392303467, 291.9203267097473, 291.5196053981781, 289.9507689476013, 288.80808782577515, 286.32537317276, 287.6432614326477, 285.9684522151947, 284.97801542282104, 284.9029383659363, 284.82963585853577, 285.69641637802124, 285.7872123718262, 286.0205795764923, 286.31506752967834, 285.87716937065125, 286.82502126693726, 287.84205651283264, 289.0810763835907, 288.63494348526, 288.2172791957855, 289.8363161087036, 290.06447410583496, 290.2102289199829, 290.17793250083923, 290.2653615474701, 290.640807390213, 290.1424798965454, 290.9813070297241, 291.58160066604614, 290.3872802257538, 291.72717666625977, 291.13587713241577, 291.35543990135193]\n"
          ]
        }
      ],
      "source": [
        "print(loss_train_list)\n",
        "print(loss_val_list)"
      ]
    },
    {
      "cell_type": "markdown",
      "metadata": {
        "id": "erjMIAK74eCp"
      },
      "source": [
        "###Saving current model"
      ]
    },
    {
      "cell_type": "code",
      "execution_count": null,
      "metadata": {
        "colab": {
          "base_uri": "https://localhost:8080/"
        },
        "id": "zV1D37Qanibo",
        "outputId": "542bf5a6-7be7-4a6f-f389-34227750cafe"
      },
      "outputs": [
        {
          "name": "stdout",
          "output_type": "stream",
          "text": [
            "/content\n",
            "total 16\n",
            "drwxr-xr-x 1 root root 4096 Jun  3 14:04 .\n",
            "drwxr-xr-x 1 root root 4096 Jul  4 08:45 ..\n",
            "drwxr-xr-x 4 root root 4096 Jun  3 14:04 .config\n",
            "drwxr-xr-x 1 root root 4096 Jun  3 14:04 sample_data\n",
            "Saving model..on Pietro pc\n",
            "Model Saved in Pietro pc!\n"
          ]
        }
      ],
      "source": [
        "if device_name not in device_list:\n",
        "  print(\"Saving model..on drive\")\n",
        "  torch.save(model1.state_dict(),directory_saved_models_drive+pth_model)\n",
        "  torch.save(optimizer.state_dict(), directory_saved_optimizers_drive+pth_optimizer)\n",
        "  print(\"Model saved..on drive\")\n",
        "\n",
        "\n",
        "else:\n",
        "  !pwd && ls -la\n",
        "  if device_name in device_list:\n",
        "    print(\"Saving model..on Pietro pc\")\n",
        "    torch.save(model1.state_dict(), path_saves_pc_pi+pth_model)\n",
        "    torch.save(optimizer.state_dict(), path_saves_pc_pi+pth_optimizer)\n",
        "    print(\"Model Saved in Pietro pc!\")\n",
        "\n",
        "\n",
        "\n"
      ]
    },
    {
      "cell_type": "markdown",
      "metadata": {
        "id": "XKL9LxA9Tkpv"
      },
      "source": [
        "#Test Phase"
      ]
    },
    {
      "cell_type": "markdown",
      "metadata": {
        "id": "tPJOf5jlLQy0"
      },
      "source": [
        "## Test fuction"
      ]
    },
    {
      "cell_type": "code",
      "execution_count": null,
      "metadata": {
        "id": "RQTuj0umLPpL"
      },
      "outputs": [],
      "source": [
        "def test(model,test_loader,criterion,debug_mode=False):\n",
        "\n",
        "    model.eval()\n",
        "    test_loss = 0.0\n",
        "\n",
        "\n",
        "    predic_labels= []\n",
        "    true_labels = []\n",
        "    pbar = tqdm(test_loader, desc=f\"Testing the model...\",colour='red')\n",
        "\n",
        "    all_outputs = []\n",
        "    all_targets = []\n",
        "\n",
        "    #no gradient computazion\n",
        "    with torch.no_grad():\n",
        "      i=0\n",
        "      for batch in pbar:\n",
        "\n",
        "        inputs = batch['image']\n",
        "        targets = batch['label']\n",
        "\n",
        "        inputs = inputs.to(device)\n",
        "        targets = targets.to(device)\n",
        "\n",
        "        output = model(inputs)\n",
        "\n",
        "        loss = criterion(output, targets)\n",
        "        test_loss += loss.item()\n",
        "        '''\n",
        "\n",
        "        copia_output=output.cpu().detach().numpy()\n",
        "        copia_target=targets.cpu().detach().numpy()\n",
        "        all_outputs.append(copia_output)\n",
        "        all_targets.append(copia_target)\n",
        "\n",
        "        '''\n",
        "\n",
        "        _,predicted=torch.max(output, dim=1)\n",
        "        predic_labels.extend(predicted.cpu().tolist())\n",
        "        true_labels.extend(targets.cpu().tolist())\n",
        "\n",
        "\n",
        "\n",
        "        i+=1\n",
        "\n",
        "    # Stack outputs and target into a single array\n",
        "    #all_outputs = np.vstack(all_outputs)\n",
        "    #all_targets = np.vstack(all_targets)\n",
        "\n",
        "\n",
        "    accuracy=accuracy_score(true_labels, predic_labels)\n",
        "\n",
        "    print(CYAN+f'[Test] Loss : {test_loss:.6f}  --> {test_loss:.3e} || Accuracy {accuracy:.4f}-> ({accuracy*100.0:.4f})%\\n'+RESET)\n",
        "\n",
        "    #return predictions,true_values"
      ]
    },
    {
      "cell_type": "code",
      "execution_count": null,
      "metadata": {
        "colab": {
          "base_uri": "https://localhost:8080/",
          "height": 84,
          "referenced_widgets": [
            "abe4810280524ca9a38265b2b25c85ed",
            "4ad4efb2f9dd45e986b0b56b72441751",
            "04f99069687a427289cbac31549f1213",
            "cf1ae76590fc496f87ea3d6dea56f34b",
            "18790a0564414c2da2870ebc66353fc3",
            "6c68eaf61491413cb9604ccfee23b3eb",
            "a278651607444fdda5cd95f3fdf64398",
            "a18c974d84d0461bb778e4acd3793039",
            "31b08ef0593545c49289da525c6bbc06",
            "92bccfeb6d2c45108804965eb0166754",
            "77cb192c2c564a7d9969c56a49bc63f9"
          ]
        },
        "id": "ngmpFqcHTwxg",
        "outputId": "4fb52071-eccd-4cb6-dbdf-6f7e20945579"
      },
      "outputs": [
        {
          "data": {
            "application/vnd.jupyter.widget-view+json": {
              "model_id": "abe4810280524ca9a38265b2b25c85ed",
              "version_major": 2,
              "version_minor": 0
            },
            "text/plain": [
              "Testing the model...:   0%|          | 0/125 [00:00<?, ?it/s]"
            ]
          },
          "metadata": {},
          "output_type": "display_data"
        },
        {
          "name": "stdout",
          "output_type": "stream",
          "text": [
            "\u001b[36m[Test] Loss : 460.152247  --> 4.602e+02 || Accuracy 0.2334-> (23.3438)%\n",
            "\u001b[0m\n"
          ]
        }
      ],
      "source": [
        "test(model=model_test,test_loader=test_loader,criterion=loss_val,debug_mode=True)"
      ]
    },
    {
      "cell_type": "code",
      "source": [],
      "metadata": {
        "id": "XqWazw5McmZ_"
      },
      "execution_count": null,
      "outputs": []
    },
    {
      "cell_type": "markdown",
      "source": [
        "#Final settings"
      ],
      "metadata": {
        "id": "GtoDRblqcm05"
      }
    },
    {
      "cell_type": "code",
      "source": [],
      "metadata": {
        "id": "EQc2u2cOckym"
      },
      "execution_count": null,
      "outputs": []
    },
    {
      "cell_type": "code",
      "execution_count": 16,
      "metadata": {
        "id": "TGxERjlSM3xW"
      },
      "outputs": [],
      "source": [
        "fix_widgets_metadata(notebook_path)"
      ]
    }
  ],
  "metadata": {
    "accelerator": "GPU",
    "colab": {
      "collapsed_sections": [
        "VpxPAe3wq-ev",
        "rwi-y45-kMW6",
        "YpTUixdaX1Nk",
        "7MpsVRm3cb5h"
      ],
      "gpuType": "T4",
      "provenance": [],
      "include_colab_link": true
    },
    "kernelspec": {
      "display_name": "Python 3",
      "name": "python3"
    },
    "language_info": {
      "name": "python"
    },
    "widgets": {
      "application/vnd.jupyter.widget-state+json": {
        "04f99069687a427289cbac31549f1213": {
          "model_module": "@jupyter-widgets/controls",
          "model_module_version": "1.5.0",
          "model_name": "FloatProgressModel",
          "state": {
            "_dom_classes": [],
            "_model_module": "@jupyter-widgets/controls",
            "_model_module_version": "1.5.0",
            "_model_name": "FloatProgressModel",
            "_view_count": null,
            "_view_module": "@jupyter-widgets/controls",
            "_view_module_version": "1.5.0",
            "_view_name": "ProgressView",
            "bar_style": "success",
            "description": "",
            "description_tooltip": null,
            "layout": "IPY_MODEL_a18c974d84d0461bb778e4acd3793039",
            "max": 125,
            "min": 0,
            "orientation": "horizontal",
            "style": "IPY_MODEL_31b08ef0593545c49289da525c6bbc06",
            "value": 125
          }
        },
        "18790a0564414c2da2870ebc66353fc3": {
          "model_module": "@jupyter-widgets/base",
          "model_module_version": "1.2.0",
          "model_name": "LayoutModel",
          "state": {
            "_model_module": "@jupyter-widgets/base",
            "_model_module_version": "1.2.0",
            "_model_name": "LayoutModel",
            "_view_count": null,
            "_view_module": "@jupyter-widgets/base",
            "_view_module_version": "1.2.0",
            "_view_name": "LayoutView",
            "align_content": null,
            "align_items": null,
            "align_self": null,
            "border": null,
            "bottom": null,
            "display": null,
            "flex": null,
            "flex_flow": null,
            "grid_area": null,
            "grid_auto_columns": null,
            "grid_auto_flow": null,
            "grid_auto_rows": null,
            "grid_column": null,
            "grid_gap": null,
            "grid_row": null,
            "grid_template_areas": null,
            "grid_template_columns": null,
            "grid_template_rows": null,
            "height": null,
            "justify_content": null,
            "justify_items": null,
            "left": null,
            "margin": null,
            "max_height": null,
            "max_width": null,
            "min_height": null,
            "min_width": null,
            "object_fit": null,
            "object_position": null,
            "order": null,
            "overflow": null,
            "overflow_x": null,
            "overflow_y": null,
            "padding": null,
            "right": null,
            "top": null,
            "visibility": null,
            "width": null
          }
        },
        "31b08ef0593545c49289da525c6bbc06": {
          "model_module": "@jupyter-widgets/controls",
          "model_module_version": "1.5.0",
          "model_name": "ProgressStyleModel",
          "state": {
            "_model_module": "@jupyter-widgets/controls",
            "_model_module_version": "1.5.0",
            "_model_name": "ProgressStyleModel",
            "_view_count": null,
            "_view_module": "@jupyter-widgets/base",
            "_view_module_version": "1.2.0",
            "_view_name": "StyleView",
            "bar_color": "red",
            "description_width": ""
          }
        },
        "4ad4efb2f9dd45e986b0b56b72441751": {
          "model_module": "@jupyter-widgets/controls",
          "model_module_version": "1.5.0",
          "model_name": "HTMLModel",
          "state": {
            "_dom_classes": [],
            "_model_module": "@jupyter-widgets/controls",
            "_model_module_version": "1.5.0",
            "_model_name": "HTMLModel",
            "_view_count": null,
            "_view_module": "@jupyter-widgets/controls",
            "_view_module_version": "1.5.0",
            "_view_name": "HTMLView",
            "description": "",
            "description_tooltip": null,
            "layout": "IPY_MODEL_6c68eaf61491413cb9604ccfee23b3eb",
            "placeholder": "​",
            "style": "IPY_MODEL_a278651607444fdda5cd95f3fdf64398",
            "value": "Testing the model...: 100%"
          }
        },
        "6c68eaf61491413cb9604ccfee23b3eb": {
          "model_module": "@jupyter-widgets/base",
          "model_module_version": "1.2.0",
          "model_name": "LayoutModel",
          "state": {
            "_model_module": "@jupyter-widgets/base",
            "_model_module_version": "1.2.0",
            "_model_name": "LayoutModel",
            "_view_count": null,
            "_view_module": "@jupyter-widgets/base",
            "_view_module_version": "1.2.0",
            "_view_name": "LayoutView",
            "align_content": null,
            "align_items": null,
            "align_self": null,
            "border": null,
            "bottom": null,
            "display": null,
            "flex": null,
            "flex_flow": null,
            "grid_area": null,
            "grid_auto_columns": null,
            "grid_auto_flow": null,
            "grid_auto_rows": null,
            "grid_column": null,
            "grid_gap": null,
            "grid_row": null,
            "grid_template_areas": null,
            "grid_template_columns": null,
            "grid_template_rows": null,
            "height": null,
            "justify_content": null,
            "justify_items": null,
            "left": null,
            "margin": null,
            "max_height": null,
            "max_width": null,
            "min_height": null,
            "min_width": null,
            "object_fit": null,
            "object_position": null,
            "order": null,
            "overflow": null,
            "overflow_x": null,
            "overflow_y": null,
            "padding": null,
            "right": null,
            "top": null,
            "visibility": null,
            "width": null
          }
        },
        "77cb192c2c564a7d9969c56a49bc63f9": {
          "model_module": "@jupyter-widgets/controls",
          "model_module_version": "1.5.0",
          "model_name": "DescriptionStyleModel",
          "state": {
            "_model_module": "@jupyter-widgets/controls",
            "_model_module_version": "1.5.0",
            "_model_name": "DescriptionStyleModel",
            "_view_count": null,
            "_view_module": "@jupyter-widgets/base",
            "_view_module_version": "1.2.0",
            "_view_name": "StyleView",
            "description_width": ""
          }
        },
        "92bccfeb6d2c45108804965eb0166754": {
          "model_module": "@jupyter-widgets/base",
          "model_module_version": "1.2.0",
          "model_name": "LayoutModel",
          "state": {
            "_model_module": "@jupyter-widgets/base",
            "_model_module_version": "1.2.0",
            "_model_name": "LayoutModel",
            "_view_count": null,
            "_view_module": "@jupyter-widgets/base",
            "_view_module_version": "1.2.0",
            "_view_name": "LayoutView",
            "align_content": null,
            "align_items": null,
            "align_self": null,
            "border": null,
            "bottom": null,
            "display": null,
            "flex": null,
            "flex_flow": null,
            "grid_area": null,
            "grid_auto_columns": null,
            "grid_auto_flow": null,
            "grid_auto_rows": null,
            "grid_column": null,
            "grid_gap": null,
            "grid_row": null,
            "grid_template_areas": null,
            "grid_template_columns": null,
            "grid_template_rows": null,
            "height": null,
            "justify_content": null,
            "justify_items": null,
            "left": null,
            "margin": null,
            "max_height": null,
            "max_width": null,
            "min_height": null,
            "min_width": null,
            "object_fit": null,
            "object_position": null,
            "order": null,
            "overflow": null,
            "overflow_x": null,
            "overflow_y": null,
            "padding": null,
            "right": null,
            "top": null,
            "visibility": null,
            "width": null
          }
        },
        "a18c974d84d0461bb778e4acd3793039": {
          "model_module": "@jupyter-widgets/base",
          "model_module_version": "1.2.0",
          "model_name": "LayoutModel",
          "state": {
            "_model_module": "@jupyter-widgets/base",
            "_model_module_version": "1.2.0",
            "_model_name": "LayoutModel",
            "_view_count": null,
            "_view_module": "@jupyter-widgets/base",
            "_view_module_version": "1.2.0",
            "_view_name": "LayoutView",
            "align_content": null,
            "align_items": null,
            "align_self": null,
            "border": null,
            "bottom": null,
            "display": null,
            "flex": null,
            "flex_flow": null,
            "grid_area": null,
            "grid_auto_columns": null,
            "grid_auto_flow": null,
            "grid_auto_rows": null,
            "grid_column": null,
            "grid_gap": null,
            "grid_row": null,
            "grid_template_areas": null,
            "grid_template_columns": null,
            "grid_template_rows": null,
            "height": null,
            "justify_content": null,
            "justify_items": null,
            "left": null,
            "margin": null,
            "max_height": null,
            "max_width": null,
            "min_height": null,
            "min_width": null,
            "object_fit": null,
            "object_position": null,
            "order": null,
            "overflow": null,
            "overflow_x": null,
            "overflow_y": null,
            "padding": null,
            "right": null,
            "top": null,
            "visibility": null,
            "width": null
          }
        },
        "a278651607444fdda5cd95f3fdf64398": {
          "model_module": "@jupyter-widgets/controls",
          "model_module_version": "1.5.0",
          "model_name": "DescriptionStyleModel",
          "state": {
            "_model_module": "@jupyter-widgets/controls",
            "_model_module_version": "1.5.0",
            "_model_name": "DescriptionStyleModel",
            "_view_count": null,
            "_view_module": "@jupyter-widgets/base",
            "_view_module_version": "1.2.0",
            "_view_name": "StyleView",
            "description_width": ""
          }
        },
        "abe4810280524ca9a38265b2b25c85ed": {
          "model_module": "@jupyter-widgets/controls",
          "model_module_version": "1.5.0",
          "model_name": "HBoxModel",
          "state": {
            "_dom_classes": [],
            "_model_module": "@jupyter-widgets/controls",
            "_model_module_version": "1.5.0",
            "_model_name": "HBoxModel",
            "_view_count": null,
            "_view_module": "@jupyter-widgets/controls",
            "_view_module_version": "1.5.0",
            "_view_name": "HBoxView",
            "box_style": "",
            "children": [
              "IPY_MODEL_4ad4efb2f9dd45e986b0b56b72441751",
              "IPY_MODEL_04f99069687a427289cbac31549f1213",
              "IPY_MODEL_cf1ae76590fc496f87ea3d6dea56f34b"
            ],
            "layout": "IPY_MODEL_18790a0564414c2da2870ebc66353fc3"
          }
        },
        "cf1ae76590fc496f87ea3d6dea56f34b": {
          "model_module": "@jupyter-widgets/controls",
          "model_module_version": "1.5.0",
          "model_name": "HTMLModel",
          "state": {
            "_dom_classes": [],
            "_model_module": "@jupyter-widgets/controls",
            "_model_module_version": "1.5.0",
            "_model_name": "HTMLModel",
            "_view_count": null,
            "_view_module": "@jupyter-widgets/controls",
            "_view_module_version": "1.5.0",
            "_view_name": "HTMLView",
            "description": "",
            "description_tooltip": null,
            "layout": "IPY_MODEL_92bccfeb6d2c45108804965eb0166754",
            "placeholder": "​",
            "style": "IPY_MODEL_77cb192c2c564a7d9969c56a49bc63f9",
            "value": " 125/125 [02:20&lt;00:00,  1.09s/it]"
          }
        },
        "3e0667b2ba2243e3acee4c3eba4dd4c6": {
          "model_module": "@jupyter-widgets/controls",
          "model_name": "HBoxModel",
          "model_module_version": "1.5.0",
          "state": {
            "_dom_classes": [],
            "_model_module": "@jupyter-widgets/controls",
            "_model_module_version": "1.5.0",
            "_model_name": "HBoxModel",
            "_view_count": null,
            "_view_module": "@jupyter-widgets/controls",
            "_view_module_version": "1.5.0",
            "_view_name": "HBoxView",
            "box_style": "",
            "children": [
              "IPY_MODEL_14de3e654c8d4462a6b42d9449878948",
              "IPY_MODEL_8caf758c147f4f8d99d18659617a001f",
              "IPY_MODEL_ed808b02469548c881a66e639bcd351b"
            ],
            "layout": "IPY_MODEL_1d59171319cc41e79bb4d1fae2c6d515"
          }
        },
        "14de3e654c8d4462a6b42d9449878948": {
          "model_module": "@jupyter-widgets/controls",
          "model_name": "HTMLModel",
          "model_module_version": "1.5.0",
          "state": {
            "_dom_classes": [],
            "_model_module": "@jupyter-widgets/controls",
            "_model_module_version": "1.5.0",
            "_model_name": "HTMLModel",
            "_view_count": null,
            "_view_module": "@jupyter-widgets/controls",
            "_view_module_version": "1.5.0",
            "_view_name": "HTMLView",
            "description": "",
            "description_tooltip": null,
            "layout": "IPY_MODEL_e2e8a0a508f84872aeb8270c66c5c9d4",
            "placeholder": "​",
            "style": "IPY_MODEL_336a8719522f4186ae34aedbe416fab3",
            "value": "Training epoch 0:  25%"
          }
        },
        "8caf758c147f4f8d99d18659617a001f": {
          "model_module": "@jupyter-widgets/controls",
          "model_name": "FloatProgressModel",
          "model_module_version": "1.5.0",
          "state": {
            "_dom_classes": [],
            "_model_module": "@jupyter-widgets/controls",
            "_model_module_version": "1.5.0",
            "_model_name": "FloatProgressModel",
            "_view_count": null,
            "_view_module": "@jupyter-widgets/controls",
            "_view_module_version": "1.5.0",
            "_view_name": "ProgressView",
            "bar_style": "danger",
            "description": "",
            "description_tooltip": null,
            "layout": "IPY_MODEL_75553548ab894252a2e17e6698d0f884",
            "max": 83,
            "min": 0,
            "orientation": "horizontal",
            "style": "IPY_MODEL_d6fd9ec2de0943228a3189788797927e",
            "value": 21
          }
        },
        "ed808b02469548c881a66e639bcd351b": {
          "model_module": "@jupyter-widgets/controls",
          "model_name": "HTMLModel",
          "model_module_version": "1.5.0",
          "state": {
            "_dom_classes": [],
            "_model_module": "@jupyter-widgets/controls",
            "_model_module_version": "1.5.0",
            "_model_name": "HTMLModel",
            "_view_count": null,
            "_view_module": "@jupyter-widgets/controls",
            "_view_module_version": "1.5.0",
            "_view_name": "HTMLView",
            "description": "",
            "description_tooltip": null,
            "layout": "IPY_MODEL_23f8374aeb6648058cca08ce0f76b7ae",
            "placeholder": "​",
            "style": "IPY_MODEL_28e249bd9977451ea0dd0c40eee7c49f",
            "value": " 21/83 [01:12&lt;02:30,  2.43s/it]"
          }
        },
        "1d59171319cc41e79bb4d1fae2c6d515": {
          "model_module": "@jupyter-widgets/base",
          "model_name": "LayoutModel",
          "model_module_version": "1.2.0",
          "state": {
            "_model_module": "@jupyter-widgets/base",
            "_model_module_version": "1.2.0",
            "_model_name": "LayoutModel",
            "_view_count": null,
            "_view_module": "@jupyter-widgets/base",
            "_view_module_version": "1.2.0",
            "_view_name": "LayoutView",
            "align_content": null,
            "align_items": null,
            "align_self": null,
            "border": null,
            "bottom": null,
            "display": "inline-flex",
            "flex": null,
            "flex_flow": "row wrap",
            "grid_area": null,
            "grid_auto_columns": null,
            "grid_auto_flow": null,
            "grid_auto_rows": null,
            "grid_column": null,
            "grid_gap": null,
            "grid_row": null,
            "grid_template_areas": null,
            "grid_template_columns": null,
            "grid_template_rows": null,
            "height": null,
            "justify_content": null,
            "justify_items": null,
            "left": null,
            "margin": null,
            "max_height": null,
            "max_width": null,
            "min_height": null,
            "min_width": null,
            "object_fit": null,
            "object_position": null,
            "order": null,
            "overflow": null,
            "overflow_x": null,
            "overflow_y": null,
            "padding": null,
            "right": null,
            "top": null,
            "visibility": null,
            "width": "100%"
          }
        },
        "e2e8a0a508f84872aeb8270c66c5c9d4": {
          "model_module": "@jupyter-widgets/base",
          "model_name": "LayoutModel",
          "model_module_version": "1.2.0",
          "state": {
            "_model_module": "@jupyter-widgets/base",
            "_model_module_version": "1.2.0",
            "_model_name": "LayoutModel",
            "_view_count": null,
            "_view_module": "@jupyter-widgets/base",
            "_view_module_version": "1.2.0",
            "_view_name": "LayoutView",
            "align_content": null,
            "align_items": null,
            "align_self": null,
            "border": null,
            "bottom": null,
            "display": null,
            "flex": null,
            "flex_flow": null,
            "grid_area": null,
            "grid_auto_columns": null,
            "grid_auto_flow": null,
            "grid_auto_rows": null,
            "grid_column": null,
            "grid_gap": null,
            "grid_row": null,
            "grid_template_areas": null,
            "grid_template_columns": null,
            "grid_template_rows": null,
            "height": null,
            "justify_content": null,
            "justify_items": null,
            "left": null,
            "margin": null,
            "max_height": null,
            "max_width": null,
            "min_height": null,
            "min_width": null,
            "object_fit": null,
            "object_position": null,
            "order": null,
            "overflow": null,
            "overflow_x": null,
            "overflow_y": null,
            "padding": null,
            "right": null,
            "top": null,
            "visibility": null,
            "width": null
          }
        },
        "336a8719522f4186ae34aedbe416fab3": {
          "model_module": "@jupyter-widgets/controls",
          "model_name": "DescriptionStyleModel",
          "model_module_version": "1.5.0",
          "state": {
            "_model_module": "@jupyter-widgets/controls",
            "_model_module_version": "1.5.0",
            "_model_name": "DescriptionStyleModel",
            "_view_count": null,
            "_view_module": "@jupyter-widgets/base",
            "_view_module_version": "1.2.0",
            "_view_name": "StyleView",
            "description_width": ""
          }
        },
        "75553548ab894252a2e17e6698d0f884": {
          "model_module": "@jupyter-widgets/base",
          "model_name": "LayoutModel",
          "model_module_version": "1.2.0",
          "state": {
            "_model_module": "@jupyter-widgets/base",
            "_model_module_version": "1.2.0",
            "_model_name": "LayoutModel",
            "_view_count": null,
            "_view_module": "@jupyter-widgets/base",
            "_view_module_version": "1.2.0",
            "_view_name": "LayoutView",
            "align_content": null,
            "align_items": null,
            "align_self": null,
            "border": null,
            "bottom": null,
            "display": null,
            "flex": "2",
            "flex_flow": null,
            "grid_area": null,
            "grid_auto_columns": null,
            "grid_auto_flow": null,
            "grid_auto_rows": null,
            "grid_column": null,
            "grid_gap": null,
            "grid_row": null,
            "grid_template_areas": null,
            "grid_template_columns": null,
            "grid_template_rows": null,
            "height": null,
            "justify_content": null,
            "justify_items": null,
            "left": null,
            "margin": null,
            "max_height": null,
            "max_width": null,
            "min_height": null,
            "min_width": null,
            "object_fit": null,
            "object_position": null,
            "order": null,
            "overflow": null,
            "overflow_x": null,
            "overflow_y": null,
            "padding": null,
            "right": null,
            "top": null,
            "visibility": null,
            "width": null
          }
        },
        "d6fd9ec2de0943228a3189788797927e": {
          "model_module": "@jupyter-widgets/controls",
          "model_name": "ProgressStyleModel",
          "model_module_version": "1.5.0",
          "state": {
            "_model_module": "@jupyter-widgets/controls",
            "_model_module_version": "1.5.0",
            "_model_name": "ProgressStyleModel",
            "_view_count": null,
            "_view_module": "@jupyter-widgets/base",
            "_view_module_version": "1.2.0",
            "_view_name": "StyleView",
            "bar_color": null,
            "description_width": ""
          }
        },
        "23f8374aeb6648058cca08ce0f76b7ae": {
          "model_module": "@jupyter-widgets/base",
          "model_name": "LayoutModel",
          "model_module_version": "1.2.0",
          "state": {
            "_model_module": "@jupyter-widgets/base",
            "_model_module_version": "1.2.0",
            "_model_name": "LayoutModel",
            "_view_count": null,
            "_view_module": "@jupyter-widgets/base",
            "_view_module_version": "1.2.0",
            "_view_name": "LayoutView",
            "align_content": null,
            "align_items": null,
            "align_self": null,
            "border": null,
            "bottom": null,
            "display": null,
            "flex": null,
            "flex_flow": null,
            "grid_area": null,
            "grid_auto_columns": null,
            "grid_auto_flow": null,
            "grid_auto_rows": null,
            "grid_column": null,
            "grid_gap": null,
            "grid_row": null,
            "grid_template_areas": null,
            "grid_template_columns": null,
            "grid_template_rows": null,
            "height": null,
            "justify_content": null,
            "justify_items": null,
            "left": null,
            "margin": null,
            "max_height": null,
            "max_width": null,
            "min_height": null,
            "min_width": null,
            "object_fit": null,
            "object_position": null,
            "order": null,
            "overflow": null,
            "overflow_x": null,
            "overflow_y": null,
            "padding": null,
            "right": null,
            "top": null,
            "visibility": null,
            "width": null
          }
        },
        "28e249bd9977451ea0dd0c40eee7c49f": {
          "model_module": "@jupyter-widgets/controls",
          "model_name": "DescriptionStyleModel",
          "model_module_version": "1.5.0",
          "state": {
            "_model_module": "@jupyter-widgets/controls",
            "_model_module_version": "1.5.0",
            "_model_name": "DescriptionStyleModel",
            "_view_count": null,
            "_view_module": "@jupyter-widgets/base",
            "_view_module_version": "1.2.0",
            "_view_name": "StyleView",
            "description_width": ""
          }
        }
      }
    }
  },
  "nbformat": 4,
  "nbformat_minor": 0
}